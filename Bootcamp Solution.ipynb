{
 "cells": [
  {
   "cell_type": "markdown",
   "metadata": {},
   "source": [
    "# Week 1 (Solutions)"
   ]
  },
  {
   "cell_type": "markdown",
   "metadata": {},
   "source": [
    "# Practice Question II"
   ]
  },
  {
   "cell_type": "markdown",
   "metadata": {},
   "source": [
    "#  1"
   ]
  },
  {
   "cell_type": "code",
   "execution_count": null,
   "metadata": {},
   "outputs": [],
   "source": [
    "Digit or Alphabet\n",
    "Description\n",
    "Write a program to display whether the input is a digit or a letter of the alphabet.\n",
    "----------------------------------------------------------------------\n",
    "Input:\n",
    "\n",
    "A digit or a letter of the alphabet\n",
    "\n",
    "Output:\n",
    "    \n",
    "Displays whether the given output is an integer or a letter of the alphabet\n",
    "\n",
    "----------------------------------------------------------------------\n",
    "Sample input:\n",
    "\n",
    "1\n",
    "\n",
    "Sample output:\n",
    "\n",
    "Integer\n",
    "----------------------------------------------------------------------\n",
    "Sample input:\n",
    "\n",
    "b\n",
    "\n",
    "Sample output:\n",
    "\n",
    "Alphabet\n"
   ]
  },
  {
   "cell_type": "code",
   "execution_count": null,
   "metadata": {},
   "outputs": [],
   "source": [
    "# Take input\n",
    "inp=input()\n",
    "\n",
    "#write your code here\n",
    "if inp[0].isdigit():\n",
    "    print('Integer')\n",
    "    \n",
    "elif inp[0].isalpha():\n",
    "    print('Alphabet')\n",
    "    \n",
    "else :\n",
    "    print(\"\\n\" + inp[0], \" is a SPECIAL CHARACTER.\")"
   ]
  },
  {
   "cell_type": "code",
   "execution_count": null,
   "metadata": {},
   "outputs": [],
   "source": [
    "# Upgrade approach -----------------------\n",
    "\n",
    "# Take input\n",
    "inp=input()\n",
    "\n",
    "#Checking whether the given input is an alphabet or an integer\n",
    "if (inp.isalpha()):\n",
    "    print(\"Alphabet\")\n",
    "    \n",
    "else:\n",
    "    print(\"Integer\")"
   ]
  },
  {
   "cell_type": "markdown",
   "metadata": {},
   "source": [
    "# 2  ASCII values"
   ]
  },
  {
   "cell_type": "code",
   "execution_count": null,
   "metadata": {},
   "outputs": [],
   "source": [
    "ASCII values\n",
    "Description\n",
    "Write a program to accept a character and display its next and previous character. \n",
    "\n",
    "Hint: Make use of Ascii values here.\n",
    "----------------------------------------------------------------------\n",
    "Input:\n",
    "\n",
    "A character\n",
    "\n",
    "Output:\n",
    "\n",
    "Previous character and the next character of the given character\n",
    "----------------------------------------------------------------------\n",
    "Sample input:\n",
    "\n",
    "D\n",
    "\n",
    "Sample output:\n",
    "\n",
    "C\n",
    "\n",
    "E\n",
    "----------------------------------------------------------------------\n",
    "Sample input:\n",
    "\n",
    "8\n",
    "\n",
    "Sample output:\n",
    "\n",
    "7\n",
    "\n",
    "9\n",
    "----------------------------------------------------------------------\n",
    "Sample input:\n",
    "\n",
    "@\n",
    "Sample Output: \n",
    "\n",
    "?\n",
    "A"
   ]
  },
  {
   "cell_type": "code",
   "execution_count": null,
   "metadata": {},
   "outputs": [],
   "source": [
    "ch = input()# Take input\n",
    "output=\"\"\n",
    "#Write your code here\n",
    "for char in ch:\n",
    "    output+=(chr(ord(char)-1))\n",
    "    print(output)\n",
    "output=\"\"    \n",
    "for char in ch:\n",
    "    output+=(chr(ord(char)+1))\n",
    "    print(output)"
   ]
  },
  {
   "cell_type": "code",
   "execution_count": null,
   "metadata": {},
   "outputs": [],
   "source": [
    "# Upgrade Approach --------------------------------------\n",
    "\n",
    "#Take input\n",
    "ch=input()\n",
    "\n",
    "#get the Ascii value of the previous character using ord(ch)-1 and print the character equivalent\n",
    "print(chr(ord(ch)-1))\n",
    "\n",
    "#get the Ascii value of the next character using ord(ch)+1 and print the character equivalent\n",
    "print(chr(ord(ch)+1))"
   ]
  },
  {
   "cell_type": "markdown",
   "metadata": {},
   "source": [
    "# 3 ---------------------------------------------"
   ]
  },
  {
   "cell_type": "code",
   "execution_count": null,
   "metadata": {},
   "outputs": [],
   "source": [
    "No Vowels\n",
    "Description\n",
    "Write a program to accept a string from the user, delete all vowels from the string and display the result. \n",
    "----------------------------------------------------------------------\n",
    "Input:\n",
    "A string\n",
    "\n",
    "Output:\n",
    "A string with vowels removed\n",
    "----------------------------------------------------------------------\n",
    "Sample input:\n",
    "Upgrad\n",
    "\n",
    "Sample output:\n",
    "pgrd\n",
    "---------------------------------------------------------------------\n",
    "Sample input:\n",
    "Python Programming\n",
    "\n",
    "Sample output:\n",
    "Pythn Prgrmmng"
   ]
  },
  {
   "cell_type": "code",
   "execution_count": null,
   "metadata": {},
   "outputs": [],
   "source": [
    "s=input()\n",
    "vowels=\"aeiouAEIOU\"\n",
    "# Write your code here\n",
    "for x in s:\n",
    "    if x in vowels:\n",
    "        s=s.replace(x,\"\")\n",
    "print(s)\n"
   ]
  },
  {
   "cell_type": "code",
   "execution_count": null,
   "metadata": {},
   "outputs": [],
   "source": [
    "# Upgrade Approach -------------------------\n",
    "\n",
    "# Take input\n",
    "s=input()\n",
    "\n",
    "#Creating an empty string that will store the modified string\n",
    "s_new=''\n",
    "\n",
    "#Looping the string 's' and extracting only the consonants\n",
    "for i in range(len(s)):\n",
    "    if s[i] not in \"AEIOUaeiou\":\n",
    "        s_new=s_new+s[i]\n",
    "\n",
    "#Print the result\n",
    "\n",
    "print(s_new)"
   ]
  },
  {
   "cell_type": "markdown",
   "metadata": {},
   "source": [
    "# 4 -----------------------"
   ]
  },
  {
   "cell_type": "code",
   "execution_count": null,
   "metadata": {},
   "outputs": [],
   "source": [
    "Valid triangle\n",
    "Description\n",
    "Write a program to accept three sides of a triangle as the input and print \n",
    "whether the triangle is valid or not.\n",
    "\n",
    "(A triangle is valid if the sum of any two sides is greater than the third side.)\n",
    "----------------------------------------------------------------------\n",
    "Input:\n",
    "Three sides of a triangle separated by a space\n",
    "\n",
    "Output:\n",
    "Whether the given triangle is \"Valid\" or \"Invalid\"\n",
    "---------------------------------------------------------------------\n",
    "Sample input:\n",
    "3 4 5\n",
    "\n",
    "Sample output:\n",
    "Valid\n",
    "----------------------------------------------------------------------\n",
    "Sample input:\n",
    "1 4 5\n",
    "\n",
    "Sample output:\n",
    "Invalid"
   ]
  },
  {
   "cell_type": "code",
   "execution_count": null,
   "metadata": {},
   "outputs": [],
   "source": [
    "# Partially accepted on upgrade\n",
    "\n",
    "a,b,c= input().split()\n",
    "\n",
    "# Write your code here\n",
    "# Convert a,b,c into numeric type and check for the validity of triangle\n",
    "s1=float(a)\n",
    "s2=float(b)\n",
    "s3=float(c)\n",
    "if s1<=0 or s2<=0 or s3<=0:\n",
    "    print(\"Invalid\")\n",
    "elif (s1+s2)>=s3 or (s2+s3)>=s1 or (s1+s3)>=s2:\n",
    "    print(\"Valid\")\n",
    "    \n",
    "else:\n",
    "    print(\"Invalid\")"
   ]
  },
  {
   "cell_type": "code",
   "execution_count": null,
   "metadata": {},
   "outputs": [],
   "source": [
    "# Upgrade Approach -----------------\n",
    "\n",
    "#Take inputs\n",
    "a,b,c=input().split()\n",
    "\n",
    "#Convert string to float type\n",
    "a=float(a)\n",
    "b=float(b)\n",
    "c=float(c)\n",
    "\n",
    "#check if the all possible sum of two sides is greater than the third side\n",
    "\n",
    "if b+c>a and a+c>b and a+b>c:\n",
    "    print(\"Valid\")\n",
    "\n",
    "else:\n",
    "    print(\"Invalid\")"
   ]
  },
  {
   "cell_type": "markdown",
   "metadata": {},
   "source": [
    "# Practice Question - III"
   ]
  },
  {
   "cell_type": "markdown",
   "metadata": {},
   "source": [
    "# 1----------"
   ]
  },
  {
   "cell_type": "code",
   "execution_count": null,
   "metadata": {},
   "outputs": [],
   "source": [
    "Multiplication Table\n",
    "Description\n",
    "Write a program to display the multiplication table of a given number.\n",
    "----------------------------------------------------------------------\n",
    "Input:\n",
    "A positive integer\n",
    "\n",
    "Output:\n",
    "Multiplication table\n",
    "----------------------------------------------------------------------\n",
    "Sample input:\n",
    "\n",
    "5\n",
    "\n",
    "Sample output:\n",
    "\n",
    "5 * 1 = 5\n",
    "5 * 2 = 10\n",
    "5 * 3 = 15\n",
    "5 * 4 = 20\n",
    "5 * 5 = 2\n",
    "5 * 6 = 30\n",
    "5 * 7 = 35\n",
    "5 * 8 = 40\n",
    "5 * 9 = 45\n",
    "5 * 10 = 50"
   ]
  },
  {
   "cell_type": "code",
   "execution_count": null,
   "metadata": {},
   "outputs": [],
   "source": [
    "n=int(input())\n",
    "\n",
    "#write your code here\n",
    "for i in range(1,11):\n",
    "    print(n ,\"*\", i, \"=\", n*i)"
   ]
  },
  {
   "cell_type": "code",
   "execution_count": null,
   "metadata": {},
   "outputs": [],
   "source": [
    "# Upgrade Approach\n",
    "\n",
    "#Take an integer input\n",
    "n=int(input())\n",
    "\n",
    "# Loop through 1 to 10 and print the multiplication result with n\n",
    "for i in range(1,11):\n",
    "    print(\"{0} * {1} =\".format(n,i),n*i)"
   ]
  },
  {
   "cell_type": "markdown",
   "metadata": {},
   "source": [
    "# 2 -----------"
   ]
  },
  {
   "cell_type": "code",
   "execution_count": null,
   "metadata": {},
   "outputs": [],
   "source": [
    "Character frequency\n",
    "Description\n",
    "Write a program to accept a string value from the user and accept a char value from the user and find out the total\n",
    "occurrence of the char value in the string value. Note that the count is not case-sensitive\n",
    "----------------------------------------------------------------------\n",
    "Input:\n",
    "A string and a character whose occurrence is to be found\n",
    "\n",
    "Output:\n",
    "An integer\n",
    "----------------------------------------------------------------------\n",
    "Sample input:\n",
    "Python Programming\n",
    "P\n",
    "\n",
    "Sample output:\n",
    "2\n",
    "----------------------------------------------------------------------\n",
    "Sample input:\n",
    "This is my first program\n",
    "t\n",
    "\n",
    "Sample output:\n",
    "2"
   ]
  },
  {
   "cell_type": "code",
   "execution_count": null,
   "metadata": {},
   "outputs": [],
   "source": [
    "input_string=input().lower()\n",
    "input_char=input().lower()\n",
    "#write your code here\n",
    "\n",
    "count=0\n",
    "for i in input_string:\n",
    "    if (i==input_char):\n",
    "        count+=1\n",
    "print(count)\n"
   ]
  },
  {
   "cell_type": "code",
   "execution_count": null,
   "metadata": {},
   "outputs": [],
   "source": [
    "# Upgrade Approach\n",
    "\n",
    "# Take input\n",
    "input_string=input()\n",
    "input_char=input()\n",
    "\n",
    "#Check the count of input_char in the string input_string and print it\n",
    "input_char=input_char.lower()\n",
    "print(input_string.lower().count(input_char))"
   ]
  },
  {
   "cell_type": "markdown",
   "metadata": {},
   "source": [
    "# 3 --------------------------"
   ]
  },
  {
   "cell_type": "code",
   "execution_count": null,
   "metadata": {},
   "outputs": [],
   "source": [
    "Sum of digits\n",
    "Description\n",
    "Write a program to calculate the sum of the digits of a given number \n",
    "----------------------------------------------------------------------\n",
    "Input:\n",
    "An n digit number\n",
    "\n",
    "Output:\n",
    "Sum of the digits\n",
    "---------------------------------------------------------------------\n",
    "Sample input:\n",
    "983\n",
    "\n",
    "Sample output:\n",
    "20\n",
    "----------------------------------------------------------------------\n",
    "Sample input:\n",
    "5241\n",
    "\n",
    "Sample output:\n",
    "12"
   ]
  },
  {
   "cell_type": "code",
   "execution_count": null,
   "metadata": {},
   "outputs": [],
   "source": [
    "n=int(input())\n",
    "\n",
    "# write your code here\n",
    "sum_of_digits=0\n",
    "for digit in str(n):\n",
    "    sum_of_digits+=int(digit)\n",
    "print(sum_of_digits)    \n"
   ]
  },
  {
   "cell_type": "code",
   "execution_count": null,
   "metadata": {},
   "outputs": [],
   "source": [
    "#Take input\n",
    "n=int(input())\n",
    "\n",
    "#Creating a variable sum that will store the sum of the digits\n",
    "sum=0\n",
    "\n",
    "while (n>0):\n",
    "    # n%10 gives the reminder value(=digit)\n",
    "    sum=sum+n%10\n",
    "    \n",
    "    # Updating the value of n by dividing it by 10 inorder to get the next digit during next iteration\n",
    "    n=n//10\n",
    "\n",
    "#Print the result\n",
    "print(sum)"
   ]
  },
  {
   "cell_type": "markdown",
   "metadata": {},
   "source": [
    "# 4 ----------------------------"
   ]
  },
  {
   "cell_type": "code",
   "execution_count": null,
   "metadata": {},
   "outputs": [],
   "source": [
    "Count the digits\n",
    "Description\n",
    "Write a program to accept a number from the user and count the zeros, odd digits and non-zero even digits from the entered\n",
    "number.\n",
    "----------------------------------------------------------------------\n",
    "Input:\n",
    "A positive integer of n digits\n",
    "\n",
    "Output:\n",
    "Three integers representing the occurrences of zeros, odd digits and non-zero even digits from the entered number.\n",
    "----------------------------------------------------------------------\n",
    "Sample input:\n",
    "1030\n",
    "\n",
    "Sample output:\n",
    "\n",
    "Number of odd digits: 2\n",
    "Number of non-zero even digits: 0\n",
    "Number of zeros: 2"
   ]
  },
  {
   "cell_type": "code",
   "execution_count": null,
   "metadata": {},
   "outputs": [],
   "source": [
    "n=int(input())\n",
    "#write your code here\n",
    "odd_count= 0\n",
    "even_count=0\n",
    "zeros_count=0\n",
    "while (n>0):\n",
    "    rem=n % 10\n",
    "    if (rem == 0 ):\n",
    "        zeros_count += 1\n",
    "    elif (rem % 2 == 0):\n",
    "        even_count+= 1\n",
    "    else:\n",
    "        odd_count+= 1\n",
    "    n= n//10\n",
    "    \n",
    "print(\"Number of odd digits:\",odd_count)\n",
    "print('Number of non-zero even digits:',even_count)\n",
    "print('Number of zeros:',zeros_count)"
   ]
  },
  {
   "cell_type": "code",
   "execution_count": null,
   "metadata": {},
   "outputs": [],
   "source": [
    "# Upgrade approach\n",
    "\n",
    "# Take input\n",
    "n=int(input())\n",
    "\n",
    "# creating three variables to keep the count of odd, even and zero digits\n",
    "n_odd=0\n",
    "n_even=0\n",
    "n_zeros=0\n",
    "\n",
    "\n",
    "\n",
    "while n>0:\n",
    "\n",
    "# Storing the reminder(is also digit at one's place of n) of n%10\n",
    "    r=n%10\n",
    "\n",
    "    # If the reminder(is also digit at one's place of n) is 0, the digit is 0. Increase the count of zeros by 1\n",
    "    if r==0:\n",
    "        n_zeros+=1\n",
    "        \n",
    "    #If the reminder is divisible by 2, it is an even digit otherwise odd. Increase the respective counts\n",
    "    elif r%2==0:\n",
    "        n_even+=1\n",
    "        \n",
    "    else:\n",
    "        r%2==1\n",
    "        n_odd+=1\n",
    "    \n",
    "    # Updating the value of n by dividing it by 10 inorder to get the next digit during next iteration\n",
    "    n=n//10\n",
    "        \n",
    "#Print the results\n",
    "print(\"Number of odd digits:\",n_odd)\n",
    "print(\"Number of non-zero even digits:\",n_even)\n",
    "print(\"Number of zeros:\",n_zeros)"
   ]
  },
  {
   "cell_type": "markdown",
   "metadata": {},
   "source": [
    "# 5 ----------------------------"
   ]
  },
  {
   "cell_type": "code",
   "execution_count": null,
   "metadata": {},
   "outputs": [],
   "source": [
    "String manipulation\n",
    "Description\n",
    "Write a program that takes a string as the input and does the following:\n",
    "\n",
    "    -Removes the numbers, special characters\n",
    "    -Converts uppercase letters to lowercase letters, and vice versa \n",
    "----------------------------------------------------------------------\n",
    "Input:\n",
    "A string \n",
    "\n",
    "Output:\n",
    "A string with numbers, special characters removed, upper and lower cases swapped\n",
    "----------------------------------------------------------------------\n",
    "Sample input:\n",
    "Programming1234\n",
    "\n",
    "Sample output:\n",
    "pROGRAMMING\n",
    "----------------------------------------------------------------------\n",
    "Sample input:\n",
    "Programming is 100% fun\n",
    "\n",
    "Sample output:\n",
    "pROGRAMMINGISFUN"
   ]
  },
  {
   "cell_type": "code",
   "execution_count": null,
   "metadata": {},
   "outputs": [],
   "source": [
    "input_string=input()\n",
    "\n",
    "#write your code here\n",
    "input_string= ''.join(char for char in input_string if char.isalnum() and not char.isdigit())\n",
    "input_string= input_string.swapcase()\n",
    "print(input_string)"
   ]
  },
  {
   "cell_type": "code",
   "execution_count": null,
   "metadata": {},
   "outputs": [],
   "source": [
    "# Upgrade Approach\n",
    "\n",
    "#Take input\n",
    "input_string=input()\n",
    "\n",
    "#Initialising an empty string that will store the modified resultant string\n",
    "new_str=''\n",
    "\n",
    "# looping through the input_string where 'c' is each character of the string\n",
    "for c in input_string:\n",
    "\n",
    "    # if the character 'c' is an alphabet, implement the code following otherwise skip that character and go for next iteration\n",
    "    if (c.isalpha()):\n",
    "        \n",
    "        # if the character 'c' is an uppercase, convert it into lowercase otherwise convert the character into uppercase\n",
    "        if c.isupper():\n",
    "            new_str=new_str+c.lower()\n",
    "        else:\n",
    "            new_str=new_str+c.upper()\n",
    "        \n",
    "\n",
    "print(new_str)"
   ]
  },
  {
   "cell_type": "markdown",
   "metadata": {},
   "source": [
    "# Week - 2 "
   ]
  },
  {
   "cell_type": "markdown",
   "metadata": {},
   "source": [
    "# Practice Exercise - I"
   ]
  },
  {
   "cell_type": "code",
   "execution_count": null,
   "metadata": {},
   "outputs": [],
   "source": [
    "List sum\n",
    "Description\n",
    "Suppose you want to know the total score of the Indian cricket team in a given match. To do so, your task is to find the \n",
    "sum of all the scores of the Indian team players. The scores are provided as a list, with each element as an individual score of the players. Also, there is a condition that if the number of elements in the list is more than 11, then it is an invalid input and the output should be -1.\n",
    "--------------------------------------------------------------------------------------------\n",
    "Input - List\n",
    "\n",
    "Output - An integer\n",
    "--------------------------------------------------------------------------------------------\n",
    "Sample Input : [11, 13, 101, 14, 33, 141]\n",
    "\n",
    "Sample Output : 313\n",
    "---------------------------------------------------------------------------------------------\n",
    "Sample Input : [11, 13, 101, 14, 33, 141, 12, 144, 54, 67, 8, 11]\n",
    "\n",
    "Sample Output : -1\n",
    "---------------------------------------------------------------------------------------------\n",
    "Sample Input : [100, 80, 30, 10, 0, 1, 2, 0]\n",
    "\n",
    "Sample Output : 223"
   ]
  },
  {
   "cell_type": "markdown",
   "metadata": {},
   "source": [
    "#  1 --------------------------------"
   ]
  },
  {
   "cell_type": "code",
   "execution_count": null,
   "metadata": {},
   "outputs": [],
   "source": [
    "import ast\n",
    "\n",
    "#Take input \n",
    "input_list= ast.literal_eval(input())\n",
    "\n",
    "#Write your code here\n",
    "\n",
    "if len(input_list)>11:\n",
    "    print(-1)\n",
    "\n",
    "else:\n",
    "    print(sum(input_list))"
   ]
  },
  {
   "cell_type": "code",
   "execution_count": null,
   "metadata": {},
   "outputs": [],
   "source": [
    "# Upgrade approach\n",
    "\n",
    "import ast\n",
    "\n",
    "#Take scores list as input\n",
    "scores=ast.literal_eval(input())\n",
    "\n",
    "#Function for calculating the total scores that takes the scores list as an argument\n",
    "\n",
    "def calc_score(scores):\n",
    "\n",
    "#If the number of score entries in the list is greater than 11, return -1\n",
    "    if len(scores)>11:\n",
    "        return(-1)\n",
    "        \n",
    "#calculate the sum of scores\n",
    "    else:\n",
    "        return(sum(scores))\n",
    "\n",
    "print(calc_score(scores))\n"
   ]
  },
  {
   "cell_type": "markdown",
   "metadata": {},
   "source": [
    "# 2 ----------------------------------------"
   ]
  },
  {
   "cell_type": "code",
   "execution_count": null,
   "metadata": {},
   "outputs": [],
   "source": [
    "Length of list elements\n",
    "Description\n",
    "Given a list of strings, write a program to find the number of strings whose length is greater than or equal to K,\n",
    "where K is a positive integer.\n",
    "\n",
    "Input - List of strings and an integer\n",
    "\n",
    "﻿Output - Integer\n",
    "--------------------------------------------------------------------------------\n",
    "Sample Input :\n",
    "[Mumbai, Hyderabad, Calicut, Chennai]\n",
    "9\n",
    "\n",
    "Sample Output: 1\n",
    "-------------------------------------------------------------------------------\n",
    "Sample Input :\n",
    "[Datascience, Data Analyst, Programmer, Manager]\n",
    "8\n",
    "\n",
    "Sample Output : 3"
   ]
  },
  {
   "cell_type": "code",
   "execution_count": null,
   "metadata": {},
   "outputs": [],
   "source": [
    "import ast\n",
    "input_list=ast.literal_eval(input())\n",
    "\n",
    "k= int(input())       \n",
    "count=0  # initialising the count variable\n",
    "# looping through the list\n",
    "for i in input_list:\n",
    "    if len(i)>=k:\n",
    "        count+=1\n",
    "print(count)"
   ]
  },
  {
   "cell_type": "code",
   "execution_count": null,
   "metadata": {},
   "outputs": [],
   "source": [
    "# Upgrade Approach\n",
    "\n",
    "import ast\n",
    "\n",
    "#Take input\n",
    "input_list = ast.literal_eval(input())\n",
    "K= int(input())\n",
    "\n",
    "# Initialising a count variagble that tracks the number of elements in the list\n",
    "# with length >k\n",
    "count = 0\n",
    "\n",
    "#Looping through the list and check the length of each element. Increase the count by 1 if the \n",
    "#length is greater than K\n",
    "for i in input_list:\n",
    "\tif len(i)>=K:\n",
    "\t    count=count+1\n",
    "\t    \n",
    "print(count)\n"
   ]
  },
  {
   "cell_type": "markdown",
   "metadata": {},
   "source": [
    "# 3 -----------------"
   ]
  },
  {
   "cell_type": "code",
   "execution_count": null,
   "metadata": {},
   "outputs": [],
   "source": [
    "Increment list elements\n",
    "Description\n",
    "Given a list of strings, increment the value of the numeric strings by 'k’. \n",
    "\n",
    "Hint: The function isdigit() may be useful here.\n",
    "---------------------------------------------------------------------------------------------\n",
    "Input - A list in the first line and an integer in the second line\n",
    "\n",
    "Output - A list\n",
    "---------------------------------------------------------------------------------------------\n",
    "Sample Input :\n",
    "['Python', '123', 'Data']\n",
    "  4\n",
    "    \n",
    "Sample Output : ['Python', '127', 'Data']\n",
    "---------------------------------------------------------------------------------------------\n",
    "Sample Input :\n",
    "['upGrad', '1991', 'Mumbai']\n",
    "  0\n",
    "    \n",
    "Sample Output : ['upGrad', '1991', 'Mumbai']\n",
    "---------------------------------------------------------------------------------------------\n",
    "Sample Input :\n",
    "['Data Science', '100', '10']\n",
    "  10\n",
    "    \n",
    "Sample Output : ['Data Science', '110', '20']"
   ]
  },
  {
   "cell_type": "code",
   "execution_count": null,
   "metadata": {},
   "outputs": [],
   "source": [
    "import ast\n",
    "input_list = ast.literal_eval(input())\n",
    "k= int(input())\n",
    "\n",
    "#write the code\n",
    "for i in range(len(input_list)):\n",
    "    if input_list[i].isdigit():\n",
    "        input_list[i]=str(int(input_list[i])+k)\n",
    "        \n",
    "print(input_list)\n"
   ]
  },
  {
   "cell_type": "code",
   "execution_count": null,
   "metadata": {},
   "outputs": [],
   "source": [
    "# Upgrade Approach\n",
    "\n",
    "import ast\n",
    "#reading the input list\n",
    "input_list = ast.literal_eval(input())\n",
    "K = int(input())\n",
    "\n",
    "# Function that takes the input list and increment value as an argument \n",
    "def check(L, K):\n",
    "    for i in range(len(L)):\n",
    "        # incrementing on testing for digit, increment by K or else continue the loop \n",
    "        if L[i].isdigit(): \n",
    "            L[i] = str(int(L[i])+K)\n",
    "        else: \n",
    "            continue\n",
    "    return L\n",
    "\n",
    "\n",
    "#calling the function\n",
    "transformed_list = check(input_list, K)\n",
    "\n",
    "#print the result\n",
    "print(transformed_list)\n"
   ]
  },
  {
   "cell_type": "markdown",
   "metadata": {},
   "source": [
    "# 4 -----------------------------------"
   ]
  },
  {
   "cell_type": "code",
   "execution_count": null,
   "metadata": {},
   "outputs": [],
   "source": [
    "Slicing a list\n",
    "Description\n",
    "Given a list of strings and an integer K, write a python code to print all the elements from the K th position till the\n",
    "end of the list.\n",
    "\n",
    "Note: Assume that K (a positive integer) will always be less than or equal to the length of the list\n",
    "\n",
    "Input - A list of strings in the first line and an integer in the second line of the input.\n",
    "\n",
    "Output - A list\n",
    "--------------------------------------------------------------------------------------------------------\n",
    "Sample Input :\n",
    "['Mumbai', 'Delhi', 'Australia', 'Nigeria', 'USA', 'London', 'Canada']\n",
    "2\n",
    "\n",
    "Sample Output : ['Delhi', 'Australia', 'Nigeria', 'USA', 'London', 'Canada']\n",
    "--------------------------------------------------------------------------------------------------------\n",
    "Sample Input :\n",
    "['Chennai', 'Vizag', 'Austria', 'Germany', 'Japan']\n",
    "3\n",
    "\n",
    "Sample Output : ['Austria', 'Germany', 'Japan']"
   ]
  },
  {
   "cell_type": "code",
   "execution_count": null,
   "metadata": {},
   "outputs": [],
   "source": [
    "import ast\n",
    "input_list=ast.literal_eval(input())\n",
    "#Write the code here\n",
    "\n",
    "k =int(input())\n",
    "res=input_list[k-1:]\n",
    "print(res)\n"
   ]
  },
  {
   "cell_type": "code",
   "execution_count": null,
   "metadata": {},
   "outputs": [],
   "source": [
    "# Upgrade Approach\n",
    "\n",
    "\n",
    "#taking the input from user\n",
    "import ast\n",
    "input_lst = input()\n",
    "test_lst = ast.literal_eval(input_lst)\n",
    "K= input()\n",
    "K= int(K)\n",
    "\n",
    "print(test_lst[K-1:len(test_lst)])\n"
   ]
  },
  {
   "cell_type": "markdown",
   "metadata": {},
   "source": [
    "# Practice Question II"
   ]
  },
  {
   "cell_type": "markdown",
   "metadata": {},
   "source": [
    "# 1 ------------------------------"
   ]
  },
  {
   "cell_type": "code",
   "execution_count": null,
   "metadata": {},
   "outputs": [],
   "source": [
    "Substring with maximum uppercase characters\n",
    "Description\n",
    "Given a string, write a Python program to find the largest substring of uppercase characters and print the length of \n",
    "that substring. Check the sample inputs and outputs for a better understanding.\n",
    "---------------------------------------------------------------------------------------------------\n",
    "Input - String\n",
    "Output - String\n",
    "---------------------------------------------------------------------------------------------------\n",
    "Sample Input - I lovE PRogrAMMING\n",
    "Sample Output - 6\n",
    "\n",
    "Explanation - AMMING is the largest substring with all characters in uppercase continuously \n",
    "-----------------------------------------------------------------------------------------------------\n",
    "Sample Input - MuMbaI is in MAHArashTRA\n",
    "Sample Output - 4\n",
    "\n",
    "Explanation - MAHA is the largest substring with all characters in uppercase continuously.\n",
    "---------------------------------------------------------------------------------------------------\n",
    "Sample Input - India WOn the WOrLD CUP\n",
    "Sample Output - 3\n",
    "\n",
    "Explanation - CUP is the largest substring with all characters in uppercase continuously."
   ]
  },
  {
   "cell_type": "code",
   "execution_count": null,
   "metadata": {},
   "outputs": [],
   "source": [
    "test_str = input()\n",
    "\n",
    "#Write the code here\n",
    "c = 0\n",
    "lst=[]   # to store the lengths of the string\n",
    "for i in test_str:            \n",
    "    if i.isupper():          \n",
    "        c+=1\n",
    "        lst.append(c)      # stores length value if string is uppercase\n",
    "    else:\n",
    "        c=0                 # stores length as 0 if string in lowercase\n",
    "        lst.append(c)\n",
    "print(max(lst))                # to get the largest length among the length of strings"
   ]
  },
  {
   "cell_type": "code",
   "execution_count": null,
   "metadata": {},
   "outputs": [],
   "source": [
    "# Upgrade Approach\n",
    "\n",
    "#read the string\n",
    "test_str = input()\n",
    "\n",
    "# when a character in the string is a uppercase, cnt will count the number of #continuous uppercase characters from that index\n",
    "cnt=0\n",
    "# max_run stores the final maximum count which is to be displayed as answer\n",
    "max_run=0\n",
    "\n",
    "for i in range(0,len(test_str)):\n",
    "    # updating run count on uppercase \n",
    "    if test_str[i].isupper():\n",
    "        cnt=cnt+1\n",
    "    # on encountering lowercase, update the cnt with 0 and start counting the continuous uppercase run again. max_run  already\n",
    "    # has the count of this run stored.\n",
    "    #updating the value of max_run with cnt, if the current ‘cnt’ is greater than the previous ‘max_run’\n",
    "    else:\n",
    "        if cnt>=max_run:\n",
    "            max_run=cnt\n",
    "        cnt=0\n",
    "#for boundary cases - when there is a potential longest substring at the end of the string        \n",
    "if cnt>=max_run:\n",
    "    max_run=cnt\n",
    "    \n",
    "# printing result \n",
    "print(max_run)\n"
   ]
  },
  {
   "cell_type": "markdown",
   "metadata": {},
   "source": [
    "# 2 ------------------------"
   ]
  },
  {
   "cell_type": "code",
   "execution_count": null,
   "metadata": {},
   "outputs": [],
   "source": [
    "Sorting list of tuples\n",
    "Description\n",
    "A class of students attempt an exam in two parts: ‘Aptitude’ and ‘Physics'. The marks of all the students are stored as a\n",
    "    list of tuples, and each student’s marks (in Aptitude and Physics) are stored in each tuple. Your task is to write a \n",
    "    Python program to sort the list of tuples in decreasing order of the Physics scores of the students.\n",
    "\n",
    "Note - Marks of both the subjects are ranged between 1-100, and no two students have scored the same marks in Physics.\n",
    "---------------------------------------------------------------------------------------------------\n",
    "Input - List of tuples\n",
    "\n",
    "Output - List of tuples\n",
    "---------------------------------------------------------------------------------------------------\n",
    "Sample Input - [(45,77), (88,87), (67,98), (33,31)]\n",
    "\n",
    "In (45,77), which is the first element in the list, 45 and 77 are the scores of a student in aptitude and physics respectively.\n",
    "\n",
    "Sample Output - [ (67,98), (88,87), (45,77),(33,31)]\n",
    "---------------------------------------------------------------------------------------------------\n",
    "Sample Input - [(45,23), (45,88), (45,98), (45,44)]\n",
    "\n",
    "Sample Output - [ (45,98), (45,88), (45,44),(45,23)]\n",
    "---------------------------------------------------------------------------------------------------\n",
    "Sample Input - [(55,77), (34,90), (67,100), (90,0)]\n",
    "\n",
    "Sample Output - [ (67,100), (34,90), (55,77),(90,0)]"
   ]
  },
  {
   "cell_type": "code",
   "execution_count": null,
   "metadata": {},
   "outputs": [],
   "source": [
    "import ast \n",
    "marks = ast.literal_eval(input())\n",
    "\n",
    "#write your code here\n",
    "def takeSecond(element):\n",
    "    return element[1] # as we need to sort according to physics marks and its index is [1]\n",
    "\n",
    "marks.sort(key= takeSecond , reverse = True)  # reverse = True, because we need to short in descending order of physics marks\n",
    "\n",
    "print(marks)"
   ]
  },
  {
   "cell_type": "code",
   "execution_count": null,
   "metadata": {},
   "outputs": [],
   "source": [
    "#  Upgrade Approach \n",
    "\n",
    "import ast\n",
    "\n",
    "#Take input\n",
    "input_list = input()\n",
    "tup = ast.literal_eval(input_list)\n",
    "    \n",
    "# Function to sort the list by second item of tuple \n",
    "def sort(tuples): \n",
    "    return sorted(tuples, key=last , reverse=True) \n",
    "    \n",
    "# key is set to sort using second element of tuple  \n",
    "def last(n): \n",
    "    return n[-1]   \n",
    " \n",
    "# printing the sorted list of tuples \n",
    "print(sort(tup))\n"
   ]
  },
  {
   "cell_type": "markdown",
   "metadata": {},
   "source": [
    "# 3 ---------------------------"
   ]
  },
  {
   "cell_type": "code",
   "execution_count": null,
   "metadata": {},
   "outputs": [],
   "source": [
    "Divisibility check\n",
    "Description\n",
    "Given an integer ‘n’, your task is to write a Python code to find whether ‘n’ is divisible by all its digits or not.\n",
    "If they divide the number, then the number ‘n’ is a happy number. Otherwise, it is a sad number.\n",
    "\n",
    "The number ‘n’ may be provided with commas. At first, you have to clean the number (by removing the commas involved) and \n",
    "then check whether the number is happy or sad.\n",
    "---------------------------------------------------------------------------------------------------\n",
    "Input - String\n",
    "\n",
    "Output - String\n",
    "---------------------------------------------------------------------------------------------------\n",
    "Sample Input - 2,128\n",
    "\n",
    "Sample Output - Happy Number\n",
    "---------------------------------------------------------------------------------------------------\n",
    "Sample Input - 256\n",
    "\n",
    "Sample Output - Sad Number\n",
    "---------------------------------------------------------------------------------------------------\n",
    "Sample Input - 1124\n",
    "\n",
    "Sample Output - Happy Number"
   ]
  },
  {
   "cell_type": "code",
   "execution_count": null,
   "metadata": {},
   "outputs": [],
   "source": [
    "n = input()\n",
    "x = ('').join(n.split(','))\n",
    "num = int(x)\n",
    "c = 0\n",
    "for i in x:\n",
    "    if num%int(i)== 0:\n",
    "        c+=1\n",
    "    else: \n",
    "        c-=1\n",
    "if c==len(x):\n",
    "    print('Happy Number')\n",
    "else:\n",
    "    print('Sad Number')\n"
   ]
  },
  {
   "cell_type": "code",
   "execution_count": null,
   "metadata": {},
   "outputs": [],
   "source": [
    "# reading input\n",
    "test_str = input()\n",
    "\n",
    "#replace special characters in number, here it is comma (,)\n",
    "cleaned_test_str = test_str.replace(\",\",\"\")\n",
    "\n",
    "#convert to integer\n",
    "n = int(cleaned_test_str)\n",
    "\n",
    "# Function to check if all digits of n divide it or not\n",
    "def allDigitsDivide(n):\n",
    "    temp = n\n",
    "    while (temp > 0):\n",
    "        # Taking the digit of the number into a digit variable.\n",
    "        digit = temp % 10\n",
    "\n",
    "         #check if the digit is non-zero as any number dividing zero is invalid\n",
    "         #also check if it gives a remainder of zero when it divides n\n",
    "        if not(digit != 0 and n % digit == 0):\n",
    "\t        return False\n",
    "        temp = temp // 10\n",
    "    \n",
    "    #If the function did not return anything until the while loop is over, \n",
    "    #it means that the number was divisible by all of its digits.\n",
    "    return True\n",
    "    \n",
    "#call the allDigitsDivide function\n",
    "if (allDigitsDivide(n)):\n",
    "    print(\"Happy Number\")\n",
    "else:\n",
    "    print(\"Sad Number\" )\n"
   ]
  },
  {
   "cell_type": "markdown",
   "metadata": {},
   "source": [
    "# Practice Questions - III\n"
   ]
  },
  {
   "cell_type": "markdown",
   "metadata": {},
   "source": [
    "# 1 ---------------------------------------"
   ]
  },
  {
   "cell_type": "code",
   "execution_count": null,
   "metadata": {},
   "outputs": [],
   "source": [
    "Updating the dictionary keys\n",
    "Description\n",
    "You are provided with a dictionary containing the names of different football clubs as keys and the name of the main\n",
    "player of the corresponding team as values. When the main player of a team retires, one of their teammates steps up to fill\n",
    "in their role as the main player.\n",
    "\n",
    "You’re also provided with a list which contains the names of the football clubs for which the current main players are\n",
    "retiring and the names of the corresponding new main player. Your task is to update the values in the original dictionary\n",
    "with the names of the new main players.\n",
    "------------------------------------------------------------------------------------------------------\n",
    "Input - The input consists of a dictionary with different football clubs' names and their main player. In the next line,\n",
    "you will be provided with a list of the new players who have taken up the main roles.\n",
    "\n",
    "Output - Dictionary\n",
    "---------------------------------------------------------------------------------------------------\n",
    "Sample Input :\n",
    "\n",
    "{Barcelona:’Messi’ , ‘Real Madrid’: ‘Benzema’, ‘PSG’: ‘Neymar’ }\n",
    "\n",
    "[[‘Barcelona’, ‘Griezmann’], [‘PSG’, ‘Ramos’]]\n",
    "\n",
    "Sample Output: {Barcelona:‘Griezmann’, ‘Real Madrid’: ‘Benzema’, ‘PSG’: ‘Ramos’}\n",
    "---------------------------------------------------------------------------------------------------\n",
    "Sample Input:\n",
    "\n",
    "{Liverpool:’A’, ‘Real Madrid’: ‘B’, ‘Chelsea’: ‘C’ }\n",
    "\n",
    "[[Liverpool, ‘R’]]\n",
    "\n",
    "Sample Output: {Liverpool:’R’, ‘Real Madrid’: ‘B’, ‘Chelsea’: ‘C’ }\n",
    "---------------------------------------------------------------------------------------------------\n",
    "Sample Input :\n",
    "\n",
    " {Atletico Madrid : ’D’ , ‘Juventus’: ‘B’, ‘Chelsea’: ‘C’ }\n",
    "\n",
    "[[‘Juventus’, ‘G’], [‘Chelsea’, ‘H’]]\n",
    "\n",
    "Sample Output: {Atletico Madrid : ’D’, ‘Juventus’: ‘G’, ‘Chelsea’: ‘H’ }"
   ]
  },
  {
   "cell_type": "code",
   "execution_count": null,
   "metadata": {},
   "outputs": [],
   "source": [
    "import ast\n",
    "#reading the input dictionary\n",
    "input_dictionary = input()\n",
    "convert_dictionary = ast.literal_eval(input_dictionary)\n",
    "\n",
    "#reading the input list\n",
    "input_list = input()\n",
    "convert_list = ast.literal_eval(input_list)\n",
    "\n",
    "#Write code here\n",
    "keys = list(convert_dictionary.keys())\n",
    "for i in keys:\n",
    "    for j in convert_list:\n",
    "        if i == j[0]:\n",
    "            convert_dictionary[i] = j[1]\n",
    "print(convert_dictionary)\n"
   ]
  },
  {
   "cell_type": "code",
   "execution_count": null,
   "metadata": {},
   "outputs": [],
   "source": [
    "# Upgrade Approach\n",
    "\n",
    "import ast\n",
    "#reading the input dictionary\n",
    "input_dict = ast.literal_eval(input())\n",
    "\n",
    "#reading the input list\n",
    "input_list = ast.literal_eval(input())\n",
    "\n",
    "#Function to update the keys of the dictionary\n",
    "def check(d,l):\n",
    "    #loop through each key-value pair in the dictionary\n",
    "    for key in d.keys():\n",
    "        # loop through the list\n",
    "        for ele in l:\n",
    "            #check if any element of the sub list matches the key\n",
    "            if ele[0]==key:\n",
    "                #update the value\n",
    "                d[key] = ele[1] \n",
    "            else: \n",
    "                pass\n",
    "    return d\n",
    "\n",
    "#calling the function\n",
    "transformed_dictionary = check(input_dict, input_list)\n",
    "#print the result\n",
    "print(transformed_dictionary)\n"
   ]
  },
  {
   "cell_type": "markdown",
   "metadata": {},
   "source": [
    "# 2 -------------------------------------"
   ]
  },
  {
   "cell_type": "code",
   "execution_count": null,
   "metadata": {},
   "outputs": [],
   "source": [
    "List average\n",
    "Description\n",
    "Suppose you are working as a Marketing Lead in a company and you want to recruit new employees in your team\n",
    "(which already consists of 10 members) to carry out the company’s major project. You select the employees based on five\n",
    "parameters: A, B, C, D and E. The value of each parameter is represented on a scale of 1 to 10. The present average value\n",
    "of these parameters for your team is given to you in a list (in the same order). You recruit a person only if their scores\n",
    "do not reduce the average score of more than two parameters of your team. If they are recruited, print the output as\n",
    "‘Selected’. If not, print the output as ‘Rejected’.\n",
    "-------------------------------------------------------------------------------------------------\n",
    "Input - Two lists, where the first list is the average scores of the team in the five parameters, and the second list is the\n",
    "scores of the new employee in all the five parameters. The parameter order is the same for both the lists, which is A, B, C, D\n",
    "and E.\n",
    "\n",
    "Output - String\n",
    "--------------------------------------------------------------------------------------------------\n",
    "Sample Input - [‘8’, ‘4’, ‘6’, ‘9’, ‘7’]\n",
    "\n",
    "  [‘1’, ‘1.1’, ‘1.2’, ‘1.2’, ‘2.3’]\n",
    "\n",
    "Sample Output - Rejected\n",
    "--------------------------------------------------------------------------------------------------\n",
    "Sample Input - [‘10’, ‘5’, ‘6’, ‘9’, ‘7’]\n",
    "\n",
    "  [‘10’, ‘ 9.8’, ‘7.2’, ‘1.66’, ‘4.3’]\n",
    "\n",
    "Sample Output - Selected\n",
    "--------------------------------------------------------------------------------------------------\n",
    "Sample Input - [‘8’, ‘5.66’, ‘6.5’, ‘10’, ‘10’]\n",
    "\n",
    "  [‘7’, ‘ 10’, ‘6’, ‘7’, ‘9’]\n",
    "\n",
    "Sample Output - Rejected"
   ]
  },
  {
   "cell_type": "code",
   "execution_count": null,
   "metadata": {},
   "outputs": [],
   "source": [
    "import ast \n",
    "avgTeamScore = ast.literal_eval(input())\n",
    "avgCandidateScore = ast.literal_eval(input())\n",
    "#Write the code here\n",
    "def decision (team,candidate):\n",
    "    count = 0\n",
    "    for i in range(len(team)):\n",
    "        newAverage = (float(team[i])*10 + float(candidate[i]))/11\n",
    "        if newAverage < float(team[i]):\n",
    "                count+=1\n",
    "        if count > 2:\n",
    "            return \"Rejected\"\n",
    "        else:\n",
    "            return \"Selected\"\n",
    "            \n",
    "print(decision(avgTeamScore,avgCandidateScore))\n"
   ]
  },
  {
   "cell_type": "code",
   "execution_count": null,
   "metadata": {},
   "outputs": [],
   "source": [
    "# Upgrade Approach\n",
    "\n",
    "import ast\n",
    "#taking the input from user which is the scores of the team\n",
    "input_list = input()\n",
    "team_list = ast.literal_eval(input_list)\n",
    "\n",
    "#taking the input from user which is the scores of the new employee\n",
    "input_list = input()\n",
    "new_member_list = ast.literal_eval(input_list)\n",
    "\n",
    "def check(team_list, new_member_list):\n",
    "    total = 0\n",
    "    #loop through every element of the list\n",
    "    for i in range (0, len(team_list)):\n",
    "        #calculate the average score after adding the new member score\n",
    "        #the 10 denotes the number of employees already existing\n",
    "        # after adding the new employee it becomes 11\n",
    "        average = (float(team_list[i])*10+float(new_member_list[i]))/11\n",
    "        #check if average is improved or not\n",
    "        if average>=float(team_list[i]):\n",
    "            #keep a count on the number of parameters\n",
    "            total+=1\n",
    "            \n",
    "    if total>=3:       \n",
    "        return \"Selected\"    \n",
    "    else:\n",
    "        return \"Rejected\"\n",
    "#calling the function\n",
    "validity = check(team_list, new_member_list)\n",
    "#print the result\n",
    "print(validity)\n"
   ]
  },
  {
   "cell_type": "markdown",
   "metadata": {},
   "source": [
    "# 3 --------------------------------"
   ]
  },
  {
   "cell_type": "code",
   "execution_count": null,
   "metadata": {},
   "outputs": [],
   "source": [
    "Merge dictionaries\n",
    "Description\n",
    "Write a python code to merge two dictionaries into a single dictionary.\n",
    "-------------------------------------------------------------------------------------------------\n",
    "Input: Two dictionaries, one in each line\n",
    "\n",
    "Output: A Dictionary\n",
    "--------------------------------------------------------------------------------------------------\n",
    "Sample Input :\n",
    "\n",
    "{'a': 10, 'b': 8}\n",
    "\n",
    "{'d': 6, 'c': 4}\n",
    "\n",
    "Sample Output : {'c': 4, 'a': 10, 'b': 8, 'd': 6}\n",
    "--------------------------------------------------------------------------------------------------\n",
    "Sample Input :\n",
    "\n",
    "{'a': 110, 'b': 88}\n",
    "\n",
    "{'d': 62, 'c': 44}\n",
    "\n",
    "Sample Output : {'a': 110, 'b': 88, 'd': 62, 'c': 44}"
   ]
  },
  {
   "cell_type": "code",
   "execution_count": null,
   "metadata": {},
   "outputs": [],
   "source": [
    "import ast\n",
    "\n",
    "#take input of two dictionaries\n",
    "dict_1 = ast.literal_eval(input())\n",
    "dict_2 = ast.literal_eval(input())\n",
    "#Write the code here\n",
    "d = dict_1.copy()\n",
    "d.update(dict_2)\n",
    "print(d)"
   ]
  },
  {
   "cell_type": "code",
   "execution_count": null,
   "metadata": {},
   "outputs": [],
   "source": [
    "# Upgrade approach\n",
    "\n",
    "\n",
    "import ast\n",
    "\n",
    "#taking the input from user\n",
    "input_dict1 = input()\n",
    "dict1= ast.literal_eval(input_dict1)\n",
    "input_dict2 = input()\n",
    "dict2= ast.literal_eval(input_dict2)\n",
    "\n",
    "#updating dict1 with dict2\n",
    "dict1.update(dict2)\n",
    "print(dict1)\n",
    "\n"
   ]
  },
  {
   "cell_type": "markdown",
   "metadata": {},
   "source": [
    "# Week - 3 "
   ]
  },
  {
   "cell_type": "markdown",
   "metadata": {},
   "source": [
    "# Practice Question - I"
   ]
  },
  {
   "cell_type": "markdown",
   "metadata": {},
   "source": [
    "# 1 ---------------------"
   ]
  },
  {
   "cell_type": "code",
   "execution_count": null,
   "metadata": {},
   "outputs": [],
   "source": [
    "Even numbers in a list\n",
    "Description\n",
    "Given a list of integers, write a python code to find all the even numbers present in the list.\n",
    "\n",
    "Note: Try using lambda and filter functions to solve the problem.\n",
    "    \n",
    "Input: A list of integers\n",
    "\n",
    "Output: A list of integers\n",
    "----------------------------------------------------------------------\n",
    "Sample input: [5, 7, 22, 97, 54, 62, 77, 23, 73, 61] \n",
    "\n",
    "Sample output: [22, 54, 62]\n",
    "---------------------------------------------------------------------\n",
    "Sample input: [500, 789, 2112, 9097, 5894, 9062, 8977, 1223, 773, 600]\n",
    "\n",
    "Sample output: [500, 2112, 5894, 9062, 600]"
   ]
  },
  {
   "cell_type": "code",
   "execution_count": null,
   "metadata": {},
   "outputs": [],
   "source": [
    "import ast\n",
    "input_list=ast.literal_eval(input())\n",
    "# write the code here\n",
    " \n",
    "even = list(filter(lambda x : x%2==0 , input_list))\n",
    "print(even)"
   ]
  },
  {
   "cell_type": "code",
   "execution_count": null,
   "metadata": {},
   "outputs": [],
   "source": [
    "# Upgrade Approach\n",
    "\n",
    "\n",
    "import ast\n",
    "\n",
    "#read the input here\n",
    "input_list = ast.literal_eval(input())\n",
    "\n",
    "#since the result is a subset of the input list, we will use the filter function. \n",
    "#instead of for loop, we will use the lambda function.  \n",
    "final_list = list(filter(lambda x: (x%2 == 0) , input_list)) \n",
    "print(final_list)\n",
    "\n"
   ]
  },
  {
   "cell_type": "markdown",
   "metadata": {},
   "source": [
    "# 2 -----------------------------------"
   ]
  },
  {
   "cell_type": "code",
   "execution_count": null,
   "metadata": {},
   "outputs": [],
   "source": [
    "Triple the list elements\n",
    "Description\n",
    "Given a list of integers, write a python code to triple all the values in the list.\n",
    "\n",
    "Note: Try using lambda and map functions to solve the problem.\n",
    "Input: A list of integers\n",
    "\n",
    "Output: A list of integers\n",
    "----------------------------------------------------------------------\n",
    "Sample input: [5, 7, 22, 97, 54, 62, 77, 23, 73, 61]\n",
    "\n",
    "Output: [15, 21, 66, 291, 162, 186, 231, 69, 219, 183]\n",
    "-----------------------------------------------\n",
    "Sample input: [15, 71, 2, 9, 5, 6, 11, 3, 7, 6]\n",
    "\n",
    "Output: [45, 213, 6, 27, 15, 18, 33, 9, 21, 18]"
   ]
  },
  {
   "cell_type": "code",
   "execution_count": null,
   "metadata": {},
   "outputs": [],
   "source": [
    "import ast\n",
    "input_list = ast.literal_eval(input())\n",
    "# write the code here\n",
    "triple_elements = list(map(lambda x : x*3 ,input_list))\n",
    "print(triple_elements)"
   ]
  },
  {
   "cell_type": "code",
   "execution_count": null,
   "metadata": {},
   "outputs": [],
   "source": [
    "# Upgrade Approach \n",
    "\n",
    "import ast\n",
    "\n",
    "#read the input here.\n",
    "input_list = ast.literal_eval(input())\n",
    "\n",
    "\n",
    "#mapping lambda function to each element of the input_list\n",
    "final_list = list(map(lambda x: x*3, input_list)) \n",
    "print(final_list)\n"
   ]
  },
  {
   "cell_type": "markdown",
   "metadata": {},
   "source": [
    "# 3 --------------------------------------------"
   ]
  },
  {
   "cell_type": "code",
   "execution_count": null,
   "metadata": {},
   "outputs": [],
   "source": [
    "Encrypt elements in a list\n",
    "Description\n",
    "A company stores the names of their employees in a list. They want to encrypt the names so that no one can read them and \n",
    "the data stays safe. One of the steps in encrypting is to reverse each name in the list and convert them to uppercase and\n",
    "your task is to write a Python code to execute the same.\n",
    "\n",
    "Note: Use lambda and map functions.\n",
    "\n",
    "Input: A list of names\n",
    "\n",
    "Output: A list of encrypted names\n",
    "----------------------------------------------------------------------\n",
    "Sample input: ['Ronaldo', 'Cristiano', 'Rakesh', 'Ronak']\n",
    "\n",
    "Sample output: ['ODLANOR', 'ONAITSIRC', 'HSEKAR', 'KANOR']\n",
    "----------------------------------------------------------------------\n",
    "Sample input: ['Abhay', 'Aravind', 'Desilva', 'Darpan']\n",
    "\n",
    "Sample output: ['YAHBA', 'DNIVARA', 'AVLISED', 'NAPRAD']"
   ]
  },
  {
   "cell_type": "code",
   "execution_count": null,
   "metadata": {},
   "outputs": [],
   "source": [
    "import ast\n",
    "input_list  = ast.literal_eval(input())\n",
    "# write the code here\n",
    "reverse_list = list(map(lambda x : x.upper()[::-1], input_list))\n",
    "print(reverse_list)\n"
   ]
  },
  {
   "cell_type": "code",
   "execution_count": null,
   "metadata": {},
   "outputs": [],
   "source": [
    "# Upgrade Approach \n",
    "\n",
    "import ast\n",
    "\n",
    "#read the input here.\n",
    "input_lst = input()\n",
    "names= ast.literal_eval(input_lst)\n",
    "  \n",
    "#here, we intend to change all names by reversing the string and converting  them to upper case\n",
    "encode_names = list(map(lambda name: str.upper(name[::-1]), names)) \n",
    "  \n",
    "print(encode_names)\n"
   ]
  },
  {
   "cell_type": "markdown",
   "metadata": {},
   "source": [
    "#  Practice Questions - II"
   ]
  },
  {
   "cell_type": "markdown",
   "metadata": {},
   "source": [
    "# 1 ---------------------------------------------------------"
   ]
  },
  {
   "cell_type": "code",
   "execution_count": null,
   "metadata": {},
   "outputs": [],
   "source": [
    "Sorting a dictionary\n",
    "Description\n",
    "Given is a list consisting of dictionary elements. Each dictionary contains the name of a student as a first item and his/her\n",
    "corresponding rank as the second item. Your task is to write a Python program to print the list (dictionary elements) in a \n",
    "sorted ascending order according to student ranks. In case the rank of two or more students are the same, then sort them in \n",
    "ascending order (alphabetically) according to their names.\n",
    "\n",
    "Note: Use the sorted() function to solve the question.\n",
    "\n",
    "Input: Dictionary\n",
    "\n",
    "Output: Dictionary\n",
    "--------------------------------------------------------------------\n",
    "Sample input: [{ \"name\" : \"Arpit\", \"rank\" : 20}, { \"name\" : \"Manjeet\", \"rank\" : 20 },{ \"name\" : \"Aravind\" , \"rank\" : 19 }]\n",
    "\n",
    "Sample output: [{ \"name\" : \"Aravind\" , \"rank\" : 19 }, { \"name\" : \"Arpit\", \"rank\" : 20}, { \"name\" : \"Manjeet\", \"rank\" : 20 },]\n",
    "----------------------------------------------------------------------\n",
    "Sample input: [{ \"name\" : \"Mohan\", \"rank\" : 2}, { \"name\" : \"Mandeep\", \"rank\" : 2 },\n",
    "\n",
    "{ \"name\" : \"Merut\" , \"rank\" : 2 }]\n",
    "\n",
    "Sample output: [{'name': 'Mandeep', 'rank': 2}, {'name': 'Merut', 'rank': 2}, {'name': 'Mohan', 'rank': 2}]"
   ]
  },
  {
   "cell_type": "code",
   "execution_count": null,
   "metadata": {},
   "outputs": [],
   "source": [
    "import ast\n",
    "students = ast.literal_eval(input())\n",
    "# write the code here\n",
    "new_dict = sorted(students, key = lambda x :(x['rank'], x['name']))\n",
    "print(new_dict)"
   ]
  },
  {
   "cell_type": "code",
   "execution_count": null,
   "metadata": {},
   "outputs": [],
   "source": [
    "# Upgrade Approach\n",
    "\n",
    "import ast\n",
    "\n",
    "#read the input here.\n",
    "list_of_dict = ast.literal_eval(input())\n",
    "\n",
    "#sort the dictionary based on the rank and then by name\n",
    "print(sorted(list_of_dict, key = lambda dictionary: (dictionary['rank'], dictionary['name'])))\n"
   ]
  },
  {
   "cell_type": "markdown",
   "metadata": {},
   "source": [
    "# 2 -----------------------------------------------"
   ]
  },
  {
   "cell_type": "code",
   "execution_count": null,
   "metadata": {},
   "outputs": [],
   "source": [
    "Intersection of lists\n",
    "Description\n",
    "In ‘ABC’ university, company ‘XYZ’ conducted three rounds of interviews to recruit students. Those students who passed all\n",
    "the rounds were selected. The company released the results for each round in a separate list. Your task is to write a Python\n",
    "code to display the list of the students who passed all the three rounds.\n",
    "\n",
    "Note: a. Name of the person can be given in uppercase or lowercase.\n",
    "\n",
    " b. Print the names in lowercase in the output.\n",
    "\n",
    "Input: List\n",
    "\n",
    "List\n",
    "\n",
    "List\n",
    "\n",
    "Output: List\n",
    "----------------------------------------------------------------------\n",
    "Sample input: ['Arkam', 'Bairstow', 'Cairy', 'Darpan'] \n",
    "['ARKAM', 'Bairstow', 'Cairy', 'Darpan', 'Dhoni', 'Sachin']\n",
    "['arkam', 'bairstow', 'Cheteshwar', 'Dinesh']\n",
    "    \n",
    "Sample output: ['arkam', 'bairstow']\n",
    "----------------------------------------------------------------------\n",
    "Sample input: ['Pranay', 'Aditya', 'Deepesh', 'Sandesh']\n",
    "['Pranoy', 'Surya', 'Cairy', 'Vignesh', 'ADITYA', 'SANDesh']\n",
    "['Vardhan', 'Shailesh', 'aditya', 'sandesh']\n",
    "\n",
    "Sample output: ['aditya', 'sandesh']\n",
    "----------------------------------------------------------------------\n",
    "Sample input: ['Siddharth', 'Gaurav', 'Prasad', 'Kuldeep', 'karna']\n",
    "['siddharth', 'Gaurav', 'Prasad', 'Kuldeep', 'karna']\n",
    "['Siddharth', 'gaurav', 'PRASAD', 'KuLDEEp', 'KARNA']\n",
    "Sample output: ['siddharth', 'gaurav', 'prasad', 'kuldeep', 'karna']"
   ]
  },
  {
   "cell_type": "code",
   "execution_count": null,
   "metadata": {},
   "outputs": [],
   "source": [
    "import ast\n",
    "a = ast.literal_eval(input())\n",
    "b = ast.literal_eval(input())\n",
    "c = ast.literal_eval(input())\n",
    "# write the code here\n",
    "d = list(map(lambda x : x.lower(), a))\n",
    "e = list(map(lambda x : x.lower(), b))\n",
    "f = list(map(lambda x : x.lower(), c))\n",
    "g = list(set(d).intersection(set(e)))\n",
    "h = list(set(g).intersection(set(f)))\n",
    "print(sorted(h))\n",
    "\n",
    "# Here i need to use \n",
    "# [i for i in d for j in e for k in f if i==j and i==k]\n",
    "# print(new_list)"
   ]
  },
  {
   "cell_type": "code",
   "execution_count": null,
   "metadata": {},
   "outputs": [],
   "source": [
    "# Upgrade Approach\n",
    "\n",
    "import ast\n",
    "\n",
    "#read the input here.\n",
    "input_lst = input()\n",
    "round_1 = ast.literal_eval(input_lst )\n",
    "\n",
    "#read the input here.\n",
    "input_lst = input()\n",
    "round_2= ast.literal_eval(input_lst )\n",
    "\n",
    "#read the input here.\n",
    "input_lst = input()\n",
    "round_3= ast.literal_eval(input_lst )\n",
    "\n",
    "\n",
    "\n",
    "def interSection(list1,list2): \n",
    "\n",
    "    #convert all the names to lowercase so that casing does not become a problem.\n",
    "\n",
    "    list1 = list(map(lambda name: name.lower(), list1))\n",
    "    list2 = list(map(lambda name: name.lower(), list2))\n",
    "\n",
    "    #use the filter function as the final list  is a subset.\n",
    "    #check for values that are present in both list1 and list2.\n",
    "\n",
    "    result = list(filter(lambda x: x in list1, list2))\n",
    "    return result\n",
    "\n",
    "\n",
    "intersection_round1_round2 = interSection(round_1,round_2)\n",
    "\n",
    "final_result = interSection(intersection_round1_round2,round_3)\n",
    "\n",
    "print(final_result)\n"
   ]
  },
  {
   "cell_type": "markdown",
   "metadata": {},
   "source": [
    "# 3 ---------------------------------------------------"
   ]
  },
  {
   "cell_type": "code",
   "execution_count": null,
   "metadata": {},
   "outputs": [],
   "source": [
    "Sorting a list of dictionary elements\n",
    "Description\n",
    "A teacher decided to divide the class into groups to conduct fun activities. Each group had one or more members in it.\n",
    "The data is provided in the form of a list with dictionary elements. The key and value in each dictionary correspond to\n",
    "the student’s roll number and his/her name.\n",
    "\n",
    "In case the length of two or more dictionaries are the same, then the dictionary that occurs first in the input list\n",
    "will also appear first among the other dictionaries of the same length.\n",
    "\n",
    "Your task is to write a Python program to sort the list in descending order with respect to the group strength.﻿\n",
    "\n",
    "Note: Use lambda and sorted functions to solve the question.\n",
    "\n",
    "Input: List\n",
    "\n",
    "Output: List\n",
    "----------------------------------------------------------------------\n",
    "Sample input: [{4: 'Viking', 9: 'Happy', 10: 'Tony', 2: 'Rogers'}, {12: 'Vikram', 19: 'Vipan'}, {3: 'Kohli'},\n",
    "               {1: 'Ronaldo', 29: 'Harish', 7: 'Ganesh'}]\n",
    "    \n",
    "Sample output: [{4: 'Viking', 9: 'Happy', 10: 'Tony', 2: 'Rogers'}, {1: 'Ronaldo', 29: 'Harish', 7: 'Ganesh'},\n",
    "                {12: 'Vikram', 19: 'Vipan'}, {3: 'Kohli'}]\n",
    "----------------------------------------------------------------------\n",
    "Sample input: [{14: 'Darpan', 19: 'Harry', 10: 'Julia'}, {12: 'Ethan', 19: 'Rogers'},\n",
    "               {3: 'Kohli', 1: 'Neymar', 29: 'Sachin', 7: 'Ramesh'}]\n",
    "\n",
    "Sample output: [{3: 'Kohli', 1: 'Neymar', 29: 'Sachin', 7: 'Ramesh'}, {14: 'Darpan', 19: 'Harry', 10: 'Julia'},\n",
    "                {12: 'Ethan', 19: 'Rogers'}]"
   ]
  },
  {
   "cell_type": "code",
   "execution_count": null,
   "metadata": {},
   "outputs": [],
   "source": [
    "import ast\n",
    "input_list = ast.literal_eval(input())\n",
    "# write the code here\n",
    "group = sorted(input_list ,key = lambda x : len(x), reverse = True)\n",
    "print(group)\n"
   ]
  },
  {
   "cell_type": "code",
   "execution_count": null,
   "metadata": {},
   "outputs": [],
   "source": [
    "# Upgrade Approach    \n",
    "\n",
    "import ast\n",
    "\n",
    "#read the list.\n",
    "input_list= input()\n",
    "input_list= ast.literal_eval(input_list)\n",
    "\n",
    "# performing sort using sorted(), lambda for filtering. \n",
    "res = sorted(input_list, key=lambda sub: len(sub), reverse = True) \n",
    "  \n",
    "# printing result \n",
    "print(res)\n"
   ]
  },
  {
   "cell_type": "markdown",
   "metadata": {},
   "source": [
    "# Additional Question "
   ]
  },
  {
   "cell_type": "markdown",
   "metadata": {},
   "source": [
    "# 1 --------------------------"
   ]
  },
  {
   "cell_type": "code",
   "execution_count": null,
   "metadata": {},
   "outputs": [],
   "source": [
    "Filter a list with tuple elements\n",
    "Description\n",
    "Given is a list containing tuple elements. Filter the list with tuples containing all even numbers.\n",
    "\n",
    "Input: List\n",
    "\n",
    "Output: List\n",
    "----------------------------------------------------------------------\n",
    "Sample input: [(6, 4, 2, 8), (5, 6, 7, 6), (8, 0, 2), (7, )]\n",
    "\n",
    "Sample output: [(6, 4, 2, 8), (8, 0, 2)]\n",
    "----------------------------------------------------------------------\n",
    "Sample input: [(16, 41, 2224, 8234), (125, 566, 77, 236), (88, 100, 2342), (77, 234)]\n",
    "\n",
    "Sample output: [(88, 100, 2342)]"
   ]
  },
  {
   "cell_type": "code",
   "execution_count": null,
   "metadata": {},
   "outputs": [],
   "source": [
    "import ast                        \n",
    "L1 = ast.literal_eval(input())\n",
    "k = [ tp for tp in L1 if all (x%2==0 for x in tp)]\n",
    "print(str(k))\n",
    "\n",
    "# here i used list comprehension because we want the output in list\n",
    "# all (iterable) -  Return True if all elements of the iterable are true (or if the\n",
    "#                    iterable is empty).)"
   ]
  },
  {
   "cell_type": "code",
   "execution_count": null,
   "metadata": {},
   "outputs": [],
   "source": [
    "# Upgrade Approach    \n",
    "\n",
    "import ast\n",
    "#read the list.\n",
    "input_lst= input()\n",
    "test_list= ast.literal_eval(input_lst)\n",
    "\n",
    "#declare the output list.\n",
    "output= [] \n",
    "\n",
    "# testing for tuple to be even using the all() function.\n",
    "output= [sub for sub in test_list if all(ele % 2 == 0 for ele in sub)]\n",
    "  \n",
    "# printing results \n",
    "print(output)\n"
   ]
  },
  {
   "cell_type": "markdown",
   "metadata": {},
   "source": [
    "# 2 ---------------------------------------"
   ]
  },
  {
   "cell_type": "code",
   "execution_count": null,
   "metadata": {},
   "outputs": [],
   "source": [
    "Largest substring among elements in a list\n",
    "Description\n",
    "You are given a list of string elements. You have to find the largest substring that is common in any of the two string \n",
    "elements present in this list. You will print the two string elements which have the largest common substring along with\n",
    "the corresponding substring as the output.\n",
    "Note:\n",
    "\n",
    "a. The case of the character should also match in the substring.\n",
    "\n",
    "b. Print the string with larger length first followed by the other string.\n",
    "\n",
    "c.  There will only be one pair of strings with the maximum common substring length.\n",
    "-------------------------------------------------------------------------------------------------\n",
    "Input: List\n",
    "\n",
    "Output: String\n",
    "\n",
    "String\n",
    "--------------------------------------------------------------------------------------------------\n",
    "Sample input: ['India', 'Alaska', 'Indiana Jones', 'Peru']\n",
    "\n",
    "Sample output: Indiana Jones, India\n",
    "\n",
    "India\n",
    "--------------------------------------------------------------------------------------------------\n",
    "Sample input: ['upGrad', 'substring', 'string', 'graduation', 'buttery', 'BUTTERY']\n",
    "\n",
    "Sample output: substring , string\n",
    "\n",
    "string\n",
    "--------------------------------------------------------------------------------------------------\n",
    "Sample input: ['StarWars-1', 'Galaxy', 'star', 'Wars-1']\n",
    "\n",
    "Sample output: StarWars-1, Wars-1\n",
    "\n",
    "Wars-1\n"
   ]
  },
  {
   "cell_type": "code",
   "execution_count": null,
   "metadata": {},
   "outputs": [],
   "source": [
    "import ast\n",
    "input_list = ast.literal_eval(input())\n",
    "# write the code here\n",
    "for string1 in input_list:\n",
    "    containing_string = \"\"\n",
    "    maxlist = []\n",
    "    counter = 0\n",
    "    for string2 in input_list:\n",
    "        if string1 in string2:\n",
    "            counter+=1\n",
    "            maxlist.append(string2)\n",
    "    if counter > 1:\n",
    "            containing_string = \", \".join(sorted(maxlist, key = len , reverse=True))\n",
    "            print(containing_string)\n",
    "            print(string1)"
   ]
  },
  {
   "cell_type": "code",
   "execution_count": null,
   "metadata": {},
   "outputs": [],
   "source": [
    "# Upgrade approach   \n",
    "\n",
    "\n",
    "\n",
    "import ast\n",
    "#taking the input.\n",
    "input_str = input()\n",
    "test_str = ast.literal_eval(input_str)\n",
    "\n",
    "def check(test_str):\n",
    "    max_count = 0\n",
    "    target_small = \"\"\n",
    "    target_large = \"\"\n",
    "    target_prefix = \"\"\n",
    "    small_str = \"\"\n",
    "    large_str = \"\"\n",
    "    # looping through each element of the list.\n",
    "    len(test_str)\n",
    "    for i in range(len(test_str)-1):\n",
    "        j=i+1\n",
    "        #for every test_str[i] check for every other element to find maximum prefix length\n",
    "        while j<len(test_str):\n",
    "            #tract of which string is big and small\n",
    "            if len(test_str[i])>len(test_str[j]):\n",
    "                small_str = test_str[j]\n",
    "                large_str = test_str[i]\n",
    "            else:\n",
    "                large_str = test_str[j]\n",
    "                small_str = test_str[i]\n",
    "            index = large_str.find(small_str)\n",
    "            if len(small_str)>max_count and index!=-1:\n",
    "                target_small = small_str\n",
    "                target_large = large_str\n",
    "                target_prefix =  small_str\n",
    "                max_count = len(small_str)\n",
    "            j=j+1\n",
    "            #looping through each element of the list to compare with the other.\n",
    "\n",
    "    #print the output.               \n",
    "    print(target_large + \", \" + target_small)\n",
    "    print(target_prefix)\n",
    "\n",
    "#calling the function.\n",
    "check(test_str)\n"
   ]
  }
 ],
 "metadata": {
  "kernelspec": {
   "display_name": "Python 3",
   "language": "python",
   "name": "python3"
  },
  "language_info": {
   "codemirror_mode": {
    "name": "ipython",
    "version": 3
   },
   "file_extension": ".py",
   "mimetype": "text/x-python",
   "name": "python",
   "nbconvert_exporter": "python",
   "pygments_lexer": "ipython3",
   "version": "3.7.4"
  }
 },
 "nbformat": 4,
 "nbformat_minor": 5
}
