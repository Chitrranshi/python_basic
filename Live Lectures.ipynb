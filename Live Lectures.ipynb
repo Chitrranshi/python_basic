{
 "cells": [
  {
   "cell_type": "markdown",
   "id": "55718679",
   "metadata": {},
   "source": [
    "# Hands on Python Syntaxes( 4 July ){Week 1}"
   ]
  },
  {
   "cell_type": "code",
   "execution_count": 1,
   "id": "1b1b4c0b",
   "metadata": {},
   "outputs": [],
   "source": [
    "# formatting of string"
   ]
  },
  {
   "cell_type": "code",
   "execution_count": 2,
   "id": "ba4d8e9d",
   "metadata": {},
   "outputs": [
    {
     "name": "stdout",
     "output_type": "stream",
     "text": [
      "no guts no story\n"
     ]
    }
   ],
   "source": [
    " # Using + sign\n",
    "# print('object'+ var)\n",
    "\n",
    "item1= 'guts'\n",
    "item2='story'\n",
    "print('no ' + item1 +' no ' + item2)"
   ]
  },
  {
   "cell_type": "code",
   "execution_count": 3,
   "id": "c8b6b3dd",
   "metadata": {},
   "outputs": [
    {
     "name": "stdout",
     "output_type": "stream",
     "text": [
      "no guts no story\n"
     ]
    }
   ],
   "source": [
    "# Using format method\n",
    "# print('object{}'.format(var))\n",
    "\n",
    "print('no {} no {}'.format(item1,item2))"
   ]
  },
  {
   "cell_type": "code",
   "execution_count": 4,
   "id": "1462a8d4",
   "metadata": {},
   "outputs": [],
   "source": [
    "#Using f method\n",
    "#print(f'object{var} object {var}')\n",
    "\n",
    "# print(f'no {item1} no {item2}')"
   ]
  },
  {
   "cell_type": "code",
   "execution_count": 5,
   "id": "8f163557",
   "metadata": {},
   "outputs": [
    {
     "name": "stdout",
     "output_type": "stream",
     "text": [
      "my earth is so beautyful\n"
     ]
    }
   ],
   "source": [
    "# Example ,output will be my earth is so beautyful\n",
    "\n",
    "planet= \"earth\"\n",
    "print(\"my {} is so beautyful\".format(planet))\n",
    "\n"
   ]
  },
  {
   "cell_type": "code",
   "execution_count": 6,
   "id": "e7a60aad",
   "metadata": {},
   "outputs": [
    {
     "name": "stdout",
     "output_type": "stream",
     "text": [
      "my earth is so beautyful\n"
     ]
    }
   ],
   "source": [
    "planet= \"earth\"\n",
    "\n",
    "print(f'my {planet} is so beautyful')"
   ]
  },
  {
   "cell_type": "code",
   "execution_count": 7,
   "id": "88c81a67",
   "metadata": {},
   "outputs": [
    {
     "name": "stdout",
     "output_type": "stream",
     "text": [
      "Tom cruise\n",
      "Brad pitt\n",
      "George cloony \n"
     ]
    }
   ],
   "source": [
    "nameslist=[\"Tom cruise\", \"Brad pitt\",\"George cloony \"]\n",
    "for name in nameslist:\n",
    "    print(name)"
   ]
  },
  {
   "cell_type": "code",
   "execution_count": null,
   "id": "41781b52",
   "metadata": {},
   "outputs": [],
   "source": []
  },
  {
   "cell_type": "code",
   "execution_count": null,
   "id": "653f75bd",
   "metadata": {},
   "outputs": [],
   "source": []
  },
  {
   "cell_type": "code",
   "execution_count": 8,
   "id": "f15dcb21",
   "metadata": {},
   "outputs": [
    {
     "name": "stdout",
     "output_type": "stream",
     "text": [
      "4\n"
     ]
    },
    {
     "data": {
      "text/plain": [
       "'4'"
      ]
     },
     "execution_count": 8,
     "metadata": {},
     "output_type": "execute_result"
    }
   ],
   "source": [
    "# Let us learn how to ask input from the user \n",
    "\n",
    "input()"
   ]
  },
  {
   "cell_type": "code",
   "execution_count": 9,
   "id": "6b1a279a",
   "metadata": {},
   "outputs": [
    {
     "name": "stdout",
     "output_type": "stream",
     "text": [
      "saurabh\n",
      "B.Sc (maths)\n",
      "jaunpur\n"
     ]
    }
   ],
   "source": [
    "name = input() # capturing the input in a variable\n",
    "standard = input()\n",
    "city= input()"
   ]
  },
  {
   "cell_type": "code",
   "execution_count": 10,
   "id": "eaae822b",
   "metadata": {},
   "outputs": [
    {
     "name": "stdout",
     "output_type": "stream",
     "text": [
      "what is  your name\n",
      "Saurabh Gupta\n"
     ]
    },
    {
     "data": {
      "text/plain": [
       "'Saurabh Gupta'"
      ]
     },
     "execution_count": 10,
     "metadata": {},
     "output_type": "execute_result"
    }
   ],
   "source": [
    "input(\"what is  your name\\n\" )\n"
   ]
  },
  {
   "cell_type": "code",
   "execution_count": 11,
   "id": "4b5045fb",
   "metadata": {},
   "outputs": [
    {
     "name": "stdout",
     "output_type": "stream",
     "text": [
      "enter name :saurabh\n"
     ]
    },
    {
     "data": {
      "text/plain": [
       "'saurabh'"
      ]
     },
     "execution_count": 11,
     "metadata": {},
     "output_type": "execute_result"
    }
   ],
   "source": [
    "input('enter name :')"
   ]
  },
  {
   "cell_type": "code",
   "execution_count": 12,
   "id": "b7b1335f",
   "metadata": {},
   "outputs": [
    {
     "name": "stdout",
     "output_type": "stream",
     "text": [
      "enter your namesaurabh\n"
     ]
    }
   ],
   "source": [
    "name = input('enter your name')"
   ]
  },
  {
   "cell_type": "code",
   "execution_count": 13,
   "id": "329657b7",
   "metadata": {},
   "outputs": [
    {
     "name": "stdout",
     "output_type": "stream",
     "text": [
      "saurabh\n",
      "jaunpur\n",
      "B.Sc (maths)\n"
     ]
    }
   ],
   "source": [
    "print(name)\n",
    "print(city)\n",
    "print(standard)\n"
   ]
  },
  {
   "cell_type": "code",
   "execution_count": 14,
   "id": "e7d0ab07",
   "metadata": {},
   "outputs": [
    {
     "name": "stdout",
     "output_type": "stream",
     "text": [
      "<class 'str'>\n"
     ]
    }
   ],
   "source": [
    "print(type(name))"
   ]
  },
  {
   "cell_type": "code",
   "execution_count": 15,
   "id": "ac2ea624",
   "metadata": {},
   "outputs": [],
   "source": [
    "# Rule \n",
    "\n",
    "     # any input taken using input() function is always a STRING."
   ]
  },
  {
   "cell_type": "code",
   "execution_count": 16,
   "id": "3441f09e",
   "metadata": {},
   "outputs": [],
   "source": [
    "# lst us learn how to convert string into integer"
   ]
  },
  {
   "cell_type": "code",
   "execution_count": 17,
   "id": "1cdd9931",
   "metadata": {},
   "outputs": [
    {
     "data": {
      "text/plain": [
       "21"
      ]
     },
     "execution_count": 17,
     "metadata": {},
     "output_type": "execute_result"
    }
   ],
   "source": [
    "int(\"21\")"
   ]
  },
  {
   "cell_type": "code",
   "execution_count": 18,
   "id": "3ee08e8f",
   "metadata": {},
   "outputs": [
    {
     "name": "stdout",
     "output_type": "stream",
     "text": [
      "4\n"
     ]
    },
    {
     "data": {
      "text/plain": [
       "4"
      ]
     },
     "execution_count": 18,
     "metadata": {},
     "output_type": "execute_result"
    }
   ],
   "source": [
    "#Let us look at the expression of accepting input and converting it to integer\n",
    "\n",
    "int(input())\n"
   ]
  },
  {
   "cell_type": "code",
   "execution_count": 19,
   "id": "5318ff85",
   "metadata": {},
   "outputs": [
    {
     "name": "stdout",
     "output_type": "stream",
     "text": [
      "21\n",
      "<class 'int'>\n"
     ]
    }
   ],
   "source": [
    "age= int(input())\n",
    "print(type(age))"
   ]
  },
  {
   "cell_type": "code",
   "execution_count": 20,
   "id": "f4f10a6a",
   "metadata": {},
   "outputs": [
    {
     "name": "stdout",
     "output_type": "stream",
     "text": [
      "enter first no5\n",
      "enter second no6\n",
      "5.5\n"
     ]
    }
   ],
   "source": [
    "# Let us accept two numbers and print the average\n",
    " \n",
    "num1= int(input('enter first no'))\n",
    "num2 =int(input('enter second no'))\n",
    "\n",
    "average = (num1+num2)/2\n",
    "print(average)"
   ]
  },
  {
   "cell_type": "code",
   "execution_count": 21,
   "id": "876da662",
   "metadata": {},
   "outputs": [
    {
     "name": "stdout",
     "output_type": "stream",
     "text": [
      "enter the weight in kg5.6\n",
      "5600.0\n"
     ]
    }
   ],
   "source": [
    "w= float(input(\"enter the weight in kg\"))\n",
    "g= w*1000\n",
    "print(g)\n"
   ]
  },
  {
   "cell_type": "code",
   "execution_count": 22,
   "id": "8dc156e8",
   "metadata": {},
   "outputs": [
    {
     "name": "stdout",
     "output_type": "stream",
     "text": [
      " the weight 5.6 kg = 5600.0 grams\n"
     ]
    }
   ],
   "source": [
    "print(f' the weight {w} kg = {g} grams')"
   ]
  },
  {
   "cell_type": "code",
   "execution_count": 23,
   "id": "9df3c554",
   "metadata": {},
   "outputs": [
    {
     "name": "stdout",
     "output_type": "stream",
     "text": [
      "hey you can vote\n",
      "hey i m outside if\n"
     ]
    }
   ],
   "source": [
    "# Decision Making in Python\n",
    "\n",
    "age=21\n",
    "\n",
    "if age>=18:\n",
    "    print(\"hey you can vote\")\n",
    "print(\"hey i m outside if\")\n",
    "\n"
   ]
  },
  {
   "cell_type": "code",
   "execution_count": 24,
   "id": "c3fd85a8",
   "metadata": {},
   "outputs": [
    {
     "name": "stdout",
     "output_type": "stream",
     "text": [
      "hey i m outside if\n"
     ]
    }
   ],
   "source": [
    "age=16\n",
    "\n",
    "if age>=18:\n",
    "    print(\"hey you can vote\")\n",
    "print(\"hey i m outside if\")\n"
   ]
  },
  {
   "cell_type": "code",
   "execution_count": null,
   "id": "6e3ec637",
   "metadata": {},
   "outputs": [],
   "source": []
  },
  {
   "cell_type": "code",
   "execution_count": 25,
   "id": "728c9723",
   "metadata": {},
   "outputs": [
    {
     "ename": "SyntaxError",
     "evalue": "invalid syntax (<ipython-input-25-54a4b9fafb22>, line 1)",
     "output_type": "error",
     "traceback": [
      "\u001b[1;36m  File \u001b[1;32m\"<ipython-input-25-54a4b9fafb22>\"\u001b[1;36m, line \u001b[1;32m1\u001b[0m\n\u001b[1;33m    = means assignment of value to a variable\u001b[0m\n\u001b[1;37m    ^\u001b[0m\n\u001b[1;31mSyntaxError\u001b[0m\u001b[1;31m:\u001b[0m invalid syntax\n"
     ]
    }
   ],
   "source": [
    "#    = means assignment of value to a variable \n",
    "#      ex- car='ford'\n",
    "\n",
    "#     car=='ford'# here == means compariring / checking / its a question"
   ]
  },
  {
   "cell_type": "code",
   "execution_count": 26,
   "id": "f4612f19",
   "metadata": {},
   "outputs": [
    {
     "name": "stdout",
     "output_type": "stream",
     "text": [
      "first devision\n"
     ]
    }
   ],
   "source": [
    "# Let us learn using multiple condition in python\n",
    "\n",
    "rank = 1 \n",
    "\n",
    "if rank==1:\n",
    "    print('first devision')\n",
    "\n",
    "elif rank==2:\n",
    "    print('second division')\n",
    "\n",
    "elif rank==3:\n",
    "    print('third division')\n",
    "    \n",
    "else:\n",
    "    # else executes when all above conditions \n",
    "    # are not satisfied (false)\n",
    "    print('no division')"
   ]
  },
  {
   "cell_type": "code",
   "execution_count": 27,
   "id": "6af29a6c",
   "metadata": {},
   "outputs": [
    {
     "name": "stdout",
     "output_type": "stream",
     "text": [
      "third division\n"
     ]
    }
   ],
   "source": [
    "rank = 3 \n",
    "\n",
    "if rank==1:\n",
    "    print('first devision')\n",
    "\n",
    "elif rank==2:\n",
    "    print('second division')\n",
    "\n",
    "elif rank==3:\n",
    "    print('third division')\n",
    "    \n",
    "else:\n",
    "    # else executes when all above conditions \n",
    "    # are not satisfied (false)\n",
    "    print('no division')"
   ]
  },
  {
   "cell_type": "code",
   "execution_count": 28,
   "id": "9e05fb1c",
   "metadata": {},
   "outputs": [
    {
     "name": "stdout",
     "output_type": "stream",
     "text": [
      "no division\n"
     ]
    }
   ],
   "source": [
    "rank = 5\n",
    "\n",
    "if rank==1:\n",
    "    print('first devision')\n",
    "\n",
    "elif rank==2:\n",
    "    print('second division')\n",
    "\n",
    "elif rank==3:\n",
    "    print('third division')\n",
    "    \n",
    "else:\n",
    "    # else executes when all above conditions \n",
    "    # are not satisfied (false)\n",
    "    print('no division')"
   ]
  },
  {
   "cell_type": "code",
   "execution_count": 29,
   "id": "5f97288f",
   "metadata": {},
   "outputs": [
    {
     "name": "stdout",
     "output_type": "stream",
     "text": [
      "enter cost price 50\n",
      "enter selling price60\n",
      "profit\n"
     ]
    }
   ],
   "source": [
    "cp= float(input('enter cost price'))\n",
    "sp= float(input('enter selling price'))\n",
    "\n",
    "if sp>cp:\n",
    "    print('profit')\n",
    "    \n",
    "elif sp==cp:\n",
    "    print('no profit no loss')\n",
    "    \n",
    "else:\n",
    "    print('loss')\n",
    "    \n"
   ]
  },
  {
   "cell_type": "code",
   "execution_count": 30,
   "id": "902aa4f9",
   "metadata": {},
   "outputs": [
    {
     "name": "stdout",
     "output_type": "stream",
     "text": [
      "enter cost price 50\n",
      "enter selling price 50\n",
      "no profit no loss\n"
     ]
    }
   ],
   "source": [
    "cp= float(input('enter cost price'))\n",
    "sp= float(input('enter selling price'))\n",
    "\n",
    "if sp>cp:\n",
    "    print('profit')\n",
    "    \n",
    "elif sp==cp:\n",
    "    print('no profit no loss')\n",
    "    \n",
    "else:\n",
    "    print('loss')\n",
    "    \n"
   ]
  },
  {
   "cell_type": "code",
   "execution_count": 31,
   "id": "b73ad45f",
   "metadata": {},
   "outputs": [
    {
     "name": "stdout",
     "output_type": "stream",
     "text": [
      "enter cost price 50\n",
      "enter selling price 40\n",
      "loss\n"
     ]
    }
   ],
   "source": [
    "cp= float(input('enter cost price'))\n",
    "sp= float(input('enter selling price'))\n",
    "\n",
    "if sp>cp:\n",
    "    print('profit')\n",
    "    \n",
    "elif sp==cp:\n",
    "    print('no profit no loss')\n",
    "    \n",
    "else:\n",
    "    print('loss')\n",
    "    \n"
   ]
  },
  {
   "cell_type": "code",
   "execution_count": 32,
   "id": "17d1669c",
   "metadata": {},
   "outputs": [
    {
     "name": "stdout",
     "output_type": "stream",
     "text": [
      "1\n",
      "2\n",
      "3\n",
      "4\n",
      "5\n",
      "6\n",
      "7\n",
      "8\n",
      "9\n",
      "10\n"
     ]
    }
   ],
   "source": [
    "# While loop .........\n",
    "\n",
    "meter = 1 \n",
    "while(meter<=10):\n",
    "    print(meter)\n",
    "    meter=meter+1\n",
    "        \n"
   ]
  },
  {
   "cell_type": "code",
   "execution_count": 33,
   "id": "5ed01aaa",
   "metadata": {},
   "outputs": [
    {
     "name": "stdout",
     "output_type": "stream",
     "text": [
      "bread\n",
      "butter\n",
      "jam\n",
      "eggs\n"
     ]
    }
   ],
   "source": [
    "# FOR LOOP........\n",
    "\n",
    "for bag in ('bread', 'butter', 'jam' , 'eggs'):\n",
    "    print(bag)\n"
   ]
  },
  {
   "cell_type": "code",
   "execution_count": null,
   "id": "76672a1c",
   "metadata": {},
   "outputs": [],
   "source": [
    "# Range()\n",
    "\n",
    "# range() is a generator , it generates numbers\n",
    "\n",
    "# for example \n",
    "\n",
    "#range ( limit )\n",
    "#range(3) output : 0,1,2\n",
    "# range(4) output : 0,1,2,3\n",
    "\n",
    "# range always generates number from 0\n",
    "\n",
    "#it generates numbers till limit-1 \n",
    "\n",
    "\n"
   ]
  },
  {
   "cell_type": "code",
   "execution_count": 34,
   "id": "020e4c04",
   "metadata": {},
   "outputs": [
    {
     "name": "stdout",
     "output_type": "stream",
     "text": [
      "0\n",
      "1\n",
      "2\n",
      "3\n",
      "4\n",
      "5\n",
      "6\n",
      "7\n",
      "8\n",
      "9\n"
     ]
    }
   ],
   "source": [
    "for x in range(10):\n",
    "    print(x)"
   ]
  },
  {
   "cell_type": "code",
   "execution_count": 35,
   "id": "d040ae47",
   "metadata": {},
   "outputs": [
    {
     "name": "stdout",
     "output_type": "stream",
     "text": [
      "5\n",
      "6\n",
      "7\n",
      "8\n",
      "9\n",
      "10\n",
      "11\n",
      "12\n"
     ]
    }
   ],
   "source": [
    "# Learn by observation\n",
    "\n",
    "for x in range(5,13):   # ( start , end-1 )\n",
    "    print(x)"
   ]
  },
  {
   "cell_type": "code",
   "execution_count": 36,
   "id": "c9f25049",
   "metadata": {},
   "outputs": [
    {
     "name": "stdout",
     "output_type": "stream",
     "text": [
      "1\n",
      "3\n",
      "5\n",
      "7\n",
      "9\n"
     ]
    }
   ],
   "source": [
    "for x in range (1,11,2):   # (start, stop-1, step)\n",
    "    print(x)\n",
    "    "
   ]
  },
  {
   "cell_type": "code",
   "execution_count": 37,
   "id": "4d14c9e0",
   "metadata": {},
   "outputs": [
    {
     "name": "stdout",
     "output_type": "stream",
     "text": [
      "2\n",
      "4\n",
      "6\n",
      "8\n",
      "10\n",
      "12\n",
      "14\n",
      "16\n",
      "18\n"
     ]
    }
   ],
   "source": [
    "# write a range expression to generate even numbers from 2 to 19\n",
    "\n",
    "for x in range (2,19,2):\n",
    "    print(x)"
   ]
  },
  {
   "cell_type": "markdown",
   "id": "4fe2fc39",
   "metadata": {},
   "source": [
    "# Introduction to Python Data Structures (10 JULY) {week-2}\n"
   ]
  },
  {
   "cell_type": "code",
   "execution_count": null,
   "id": "b3fdfe6b",
   "metadata": {},
   "outputs": [],
   "source": [
    "# Data : How to- \n",
    "\n",
    "# Store\n",
    "# Add/ Insert\n",
    "# Search\n",
    "# Delete/ Update\n",
    "# Scan all the data/ Records ( traversing) {For loop}\n",
    "# Sort (ascending / discending)\n",
    "\n",
    "# Data structures ----  # Primitive          Non-Premitive                \n",
    "                          Integer             List\n",
    "                          String              Tuple\n",
    "                          Float               Sets\n",
    "                          Boolean             Dictionary\n",
    "        \n",
    " # main focus on lists and dictionary               "
   ]
  },
  {
   "cell_type": "code",
   "execution_count": null,
   "id": "087f31a7",
   "metadata": {},
   "outputs": [],
   "source": [
    "# Art of string Manipulation"
   ]
  },
  {
   "cell_type": "code",
   "execution_count": 38,
   "id": "5e1ec332",
   "metadata": {},
   "outputs": [
    {
     "data": {
      "text/plain": [
       "'p'"
      ]
     },
     "execution_count": 38,
     "metadata": {},
     "output_type": "execute_result"
    }
   ],
   "source": [
    "# INDEXING\n",
    "\n",
    "msg= 'python is cool'\n",
    "msg[0]"
   ]
  },
  {
   "cell_type": "code",
   "execution_count": 39,
   "id": "d1a6eab7",
   "metadata": {},
   "outputs": [
    {
     "data": {
      "text/plain": [
       "'h'"
      ]
     },
     "execution_count": 39,
     "metadata": {},
     "output_type": "execute_result"
    }
   ],
   "source": [
    "msg[3]"
   ]
  },
  {
   "cell_type": "code",
   "execution_count": 40,
   "id": "8edcb16c",
   "metadata": {},
   "outputs": [
    {
     "data": {
      "text/plain": [
       "'c'"
      ]
     },
     "execution_count": 40,
     "metadata": {},
     "output_type": "execute_result"
    }
   ],
   "source": [
    "msg[-4]"
   ]
  },
  {
   "cell_type": "code",
   "execution_count": 41,
   "id": "7d027ff0",
   "metadata": {},
   "outputs": [
    {
     "data": {
      "text/plain": [
       "'python is cool'"
      ]
     },
     "execution_count": 41,
     "metadata": {},
     "output_type": "execute_result"
    }
   ],
   "source": [
    "# SLICING : extracting a portion of a string\n",
    "\n",
    "msg"
   ]
  },
  {
   "cell_type": "code",
   "execution_count": null,
   "id": "1aaf6a4a",
   "metadata": {},
   "outputs": [],
   "source": [
    "# slicing grammer (syntax)\n",
    "\n",
    "# Slicing grammer ( symtax )\n",
    "# msg[ start : end-1]\n"
   ]
  },
  {
   "cell_type": "code",
   "execution_count": 42,
   "id": "c3c4bc6a",
   "metadata": {},
   "outputs": [
    {
     "data": {
      "text/plain": [
       "'pyth'"
      ]
     },
     "execution_count": 42,
     "metadata": {},
     "output_type": "execute_result"
    }
   ],
   "source": [
    "msg[0:4]"
   ]
  },
  {
   "cell_type": "code",
   "execution_count": 43,
   "id": "3686f9ca",
   "metadata": {},
   "outputs": [
    {
     "data": {
      "text/plain": [
       "'thon'"
      ]
     },
     "execution_count": 43,
     "metadata": {},
     "output_type": "execute_result"
    }
   ],
   "source": [
    "msg[2:6]"
   ]
  },
  {
   "cell_type": "code",
   "execution_count": 44,
   "id": "7501d8bc",
   "metadata": {},
   "outputs": [
    {
     "data": {
      "text/plain": [
       "'pytho'"
      ]
     },
     "execution_count": 44,
     "metadata": {},
     "output_type": "execute_result"
    }
   ],
   "source": [
    "msg[:5]  # default start index"
   ]
  },
  {
   "cell_type": "code",
   "execution_count": 45,
   "id": "b5b7d965",
   "metadata": {},
   "outputs": [
    {
     "data": {
      "text/plain": [
       "'ython is cool'"
      ]
     },
     "execution_count": 45,
     "metadata": {},
     "output_type": "execute_result"
    }
   ],
   "source": [
    "msg[1:]  # default end index"
   ]
  },
  {
   "cell_type": "code",
   "execution_count": 46,
   "id": "40b76999",
   "metadata": {},
   "outputs": [
    {
     "data": {
      "text/plain": [
       "'acegikmoqsuwy'"
      ]
     },
     "execution_count": 46,
     "metadata": {},
     "output_type": "execute_result"
    }
   ],
   "source": [
    "msg= 'abcdefghijklmnopqrstuvwxyz'\n",
    "\n",
    "msg[0:26:2]  # [ start , end-1 , step/jump/interval]\n",
    "\n"
   ]
  },
  {
   "cell_type": "code",
   "execution_count": 47,
   "id": "5df8ddf9",
   "metadata": {},
   "outputs": [
    {
     "data": {
      "text/plain": [
       "'kjihgfedcb'"
      ]
     },
     "execution_count": 47,
     "metadata": {},
     "output_type": "execute_result"
    }
   ],
   "source": [
    "msg[10:0:-1]"
   ]
  },
  {
   "cell_type": "code",
   "execution_count": 48,
   "id": "928be51f",
   "metadata": {},
   "outputs": [
    {
     "data": {
      "text/plain": [
       "'zyxwvutsrqponmlkjihgfedcba'"
      ]
     },
     "execution_count": 48,
     "metadata": {},
     "output_type": "execute_result"
    }
   ],
   "source": [
    "msg[::-1]"
   ]
  },
  {
   "cell_type": "code",
   "execution_count": 49,
   "id": "6f86b6bb",
   "metadata": {},
   "outputs": [
    {
     "data": {
      "text/plain": [
       "'ABCDEFGHIJKLMNOPQRSTUVWXYZ'"
      ]
     },
     "execution_count": 49,
     "metadata": {},
     "output_type": "execute_result"
    }
   ],
   "source": [
    "msg.upper()"
   ]
  },
  {
   "cell_type": "code",
   "execution_count": 50,
   "id": "e847f81b",
   "metadata": {},
   "outputs": [
    {
     "data": {
      "text/plain": [
       "'abcdefghijklmnopqrstuvwxyz'"
      ]
     },
     "execution_count": 50,
     "metadata": {},
     "output_type": "execute_result"
    }
   ],
   "source": [
    "msg.lower()"
   ]
  },
  {
   "cell_type": "code",
   "execution_count": 51,
   "id": "677f4954",
   "metadata": {},
   "outputs": [
    {
     "data": {
      "text/plain": [
       "3"
      ]
     },
     "execution_count": 51,
     "metadata": {},
     "output_type": "execute_result"
    }
   ],
   "source": [
    "msg.index('d')"
   ]
  },
  {
   "cell_type": "code",
   "execution_count": 52,
   "id": "c5c7a116",
   "metadata": {},
   "outputs": [
    {
     "data": {
      "text/plain": [
       "1"
      ]
     },
     "execution_count": 52,
     "metadata": {},
     "output_type": "execute_result"
    }
   ],
   "source": [
    "mystr= 'cool'\n",
    "\n",
    "mystr.index('o')"
   ]
  },
  {
   "cell_type": "code",
   "execution_count": 53,
   "id": "c80ea687",
   "metadata": {},
   "outputs": [
    {
     "data": {
      "text/plain": [
       "2"
      ]
     },
     "execution_count": 53,
     "metadata": {},
     "output_type": "execute_result"
    }
   ],
   "source": [
    "mystr.rindex('o')  # Right index"
   ]
  },
  {
   "cell_type": "code",
   "execution_count": 54,
   "id": "0f19cdb6",
   "metadata": {},
   "outputs": [
    {
     "data": {
      "text/plain": [
       "'roco'"
      ]
     },
     "execution_count": 54,
     "metadata": {},
     "output_type": "execute_result"
    }
   ],
   "source": [
    "# Exercise \n",
    "\n",
    "animal = \"crocodile\"\n",
    "# try to fetch roco\n",
    "animal[1:5]"
   ]
  },
  {
   "cell_type": "code",
   "execution_count": 55,
   "id": "01efa612",
   "metadata": {},
   "outputs": [
    {
     "data": {
      "text/plain": [
       "5"
      ]
     },
     "execution_count": 55,
     "metadata": {},
     "output_type": "execute_result"
    }
   ],
   "source": [
    "dindex= animal.index('d')\n",
    "dindex\n"
   ]
  },
  {
   "cell_type": "code",
   "execution_count": 56,
   "id": "df5c24b9",
   "metadata": {},
   "outputs": [
    {
     "data": {
      "text/plain": [
       "'ocor'"
      ]
     },
     "execution_count": 56,
     "metadata": {},
     "output_type": "execute_result"
    }
   ],
   "source": [
    "animal[dindex-1:0:-1]"
   ]
  },
  {
   "cell_type": "code",
   "execution_count": 57,
   "id": "81fad90d",
   "metadata": {},
   "outputs": [
    {
     "data": {
      "text/plain": [
       "'roco'"
      ]
     },
     "execution_count": 57,
     "metadata": {},
     "output_type": "execute_result"
    }
   ],
   "source": [
    "animal[1:dindex]\n"
   ]
  },
  {
   "cell_type": "code",
   "execution_count": 58,
   "id": "b3518de5",
   "metadata": {},
   "outputs": [
    {
     "data": {
      "text/plain": [
       "'heart'"
      ]
     },
     "execution_count": 58,
     "metadata": {},
     "output_type": "execute_result"
    }
   ],
   "source": [
    "quote = 'heart of gold'\n",
    "quote[: quote.index(' ')]  # alternative --> quote[:5]"
   ]
  },
  {
   "cell_type": "code",
   "execution_count": null,
   "id": "d71f658e",
   "metadata": {},
   "outputs": [],
   "source": [
    "# here i did't specify start index cos i understand / know that\n",
    "# default is the 0 index so  it starts from letter 'h'\n",
    "# i preffered to use index() to find the index of first 'space'\n",
    "# so it will help me find the first word i.e heart."
   ]
  },
  {
   "cell_type": "code",
   "execution_count": null,
   "id": "fd5a561b",
   "metadata": {},
   "outputs": [],
   "source": [
    "# Non Premitive Types!  { list, tuple, set, dictionary}"
   ]
  },
  {
   "cell_type": "markdown",
   "id": "a7ba5520",
   "metadata": {},
   "source": [
    "# LIST data structures\n"
   ]
  },
  {
   "cell_type": "code",
   "execution_count": null,
   "id": "c7bf5c92",
   "metadata": {},
   "outputs": [],
   "source": [
    "# list is represented by [] ( square brackets)\n",
    " \n",
    "# list can contain values of any type \n",
    "\n",
    "# it is called COMPOUND nature\n",
    "\n",
    "# list allows duplicates \n",
    "\n",
    "# list supports indexing\n",
    "\n",
    "# string[index] returns character\n",
    "\n",
    "# list[index] returns element\n",
    "\n",
    "# list is mutable( changeable )"
   ]
  },
  {
   "cell_type": "code",
   "execution_count": 3,
   "id": "89507db7",
   "metadata": {},
   "outputs": [
    {
     "name": "stdout",
     "output_type": "stream",
     "text": [
      "['thor', 'hulk', 'ironman', 'thanos', 'wonder woman']\n"
     ]
    }
   ],
   "source": [
    "avengers= ['thor','hulk', 'ironman', 'thanos', 'wonder woman']\n",
    "print(avengers)"
   ]
  },
  {
   "cell_type": "code",
   "execution_count": 3,
   "id": "7ac65d08",
   "metadata": {},
   "outputs": [
    {
     "name": "stdout",
     "output_type": "stream",
     "text": [
      "thor\n",
      "hulk\n",
      "ironman\n",
      "thanos\n",
      "wonder woman\n"
     ]
    }
   ],
   "source": [
    "# let us learn how to access each element 1 by 1\n",
    "# technically called Traversing\n",
    "\n",
    "for hero in avengers:\n",
    "    print(hero)"
   ]
  },
  {
   "cell_type": "code",
   "execution_count": 65,
   "id": "f4a8cf1d",
   "metadata": {},
   "outputs": [
    {
     "name": "stdout",
     "output_type": "stream",
     "text": [
      "--> thor\n",
      "--> hulk\n",
      "--> ironman\n",
      "--> thanos\n",
      "--> wonder woman\n"
     ]
    }
   ],
   "source": [
    "for hero in avengers:\n",
    "    print('-->',hero)"
   ]
  },
  {
   "cell_type": "code",
   "execution_count": 66,
   "id": "60bf6841",
   "metadata": {},
   "outputs": [
    {
     "name": "stdout",
     "output_type": "stream",
     "text": [
      "--> thor--> hulk--> ironman--> thanos--> wonder woman"
     ]
    }
   ],
   "source": [
    "for hero in avengers:\n",
    "    print('-->',hero, end='')  # to show in single line"
   ]
  },
  {
   "cell_type": "code",
   "execution_count": 4,
   "id": "8600841e",
   "metadata": {},
   "outputs": [
    {
     "data": {
      "text/plain": [
       "'thor'"
      ]
     },
     "execution_count": 4,
     "metadata": {},
     "output_type": "execute_result"
    }
   ],
   "source": [
    "# updating the list\n",
    "\n",
    "avengers[0]"
   ]
  },
  {
   "cell_type": "code",
   "execution_count": 4,
   "id": "00fee01b",
   "metadata": {},
   "outputs": [
    {
     "name": "stdout",
     "output_type": "stream",
     "text": [
      "['god of thunder', 'hulk', 'ironman', 'thanos', 'wonder woman']\n"
     ]
    }
   ],
   "source": [
    "avengers[0]= 'god of thunder'\n",
    "print(avengers)"
   ]
  },
  {
   "cell_type": "code",
   "execution_count": 9,
   "id": "9d175468",
   "metadata": {},
   "outputs": [],
   "source": [
    "# Adding a new element in a list at the end\n",
    "#  using append"
   ]
  },
  {
   "cell_type": "code",
   "execution_count": 5,
   "id": "6b07b09e",
   "metadata": {},
   "outputs": [
    {
     "data": {
      "text/plain": [
       "['god of thunder', 'hulk', 'ironman', 'thanos', 'wonder woman', 'antman']"
      ]
     },
     "execution_count": 5,
     "metadata": {},
     "output_type": "execute_result"
    }
   ],
   "source": [
    "avengers.append('antman')\n",
    "avengers"
   ]
  },
  {
   "cell_type": "code",
   "execution_count": 6,
   "id": "7fd7144c",
   "metadata": {},
   "outputs": [
    {
     "data": {
      "text/plain": [
       "['god of thunder',\n",
       " 'hulk',\n",
       " 'ironman',\n",
       " 'thanos',\n",
       " 'wonder woman',\n",
       " 'antman',\n",
       " 'loki']"
      ]
     },
     "execution_count": 6,
     "metadata": {},
     "output_type": "execute_result"
    }
   ],
   "source": [
    "avengers.append('loki')\n",
    "avengers"
   ]
  },
  {
   "cell_type": "code",
   "execution_count": null,
   "id": "d1f77aec",
   "metadata": {},
   "outputs": [],
   "source": [
    "# Let us addding elements at a desired position using insert()"
   ]
  },
  {
   "cell_type": "code",
   "execution_count": 7,
   "id": "ba282af3",
   "metadata": {},
   "outputs": [
    {
     "data": {
      "text/plain": [
       "['god of thunder',\n",
       " 'hulk',\n",
       " 'panther',\n",
       " 'ironman',\n",
       " 'thanos',\n",
       " 'wonder woman',\n",
       " 'antman',\n",
       " 'loki']"
      ]
     },
     "execution_count": 7,
     "metadata": {},
     "output_type": "execute_result"
    }
   ],
   "source": [
    "avengers.insert(2,'panther')\n",
    "avengers"
   ]
  },
  {
   "cell_type": "code",
   "execution_count": null,
   "id": "7a010b45",
   "metadata": {},
   "outputs": [],
   "source": [
    "#  We have a new list here"
   ]
  },
  {
   "cell_type": "code",
   "execution_count": 11,
   "id": "37331c9d",
   "metadata": {},
   "outputs": [
    {
     "data": {
      "text/plain": [
       "['falsh', 'superman', 'batman', 'aquaman']"
      ]
     },
     "execution_count": 11,
     "metadata": {},
     "output_type": "execute_result"
    }
   ],
   "source": [
    "DC= ['falsh', 'superman','batman','aquaman']\n",
    "DC"
   ]
  },
  {
   "cell_type": "code",
   "execution_count": 12,
   "id": "d3a7f8f4",
   "metadata": {},
   "outputs": [
    {
     "data": {
      "text/plain": [
       "['god of thunder',\n",
       " 'hulk',\n",
       " 'panther',\n",
       " 'ironman',\n",
       " 'thanos',\n",
       " 'wonder woman',\n",
       " 'antman',\n",
       " 'loki',\n",
       " 'D',\n",
       " 'C',\n",
       " 'falsh',\n",
       " 'superman',\n",
       " 'batman',\n",
       " 'aquaman']"
      ]
     },
     "execution_count": 12,
     "metadata": {},
     "output_type": "execute_result"
    }
   ],
   "source": [
    "# Let us learn how to add a list into  another list using extend\n",
    "\n",
    "avengers.extend(DC)\n",
    "avengers"
   ]
  },
  {
   "cell_type": "code",
   "execution_count": null,
   "id": "1da15e63",
   "metadata": {},
   "outputs": [],
   "source": [
    "# Observe the difference between\n",
    "\n",
    "# append()  eg. avengers.append('you')\n",
    "# insert()  eg. avengers.insert(2,'you')\n",
    "# extend()  eg. avengers.extend(['i,'me','myself'])"
   ]
  },
  {
   "cell_type": "code",
   "execution_count": null,
   "id": "e6d37e96",
   "metadata": {},
   "outputs": [],
   "source": [
    "# Let us learn how to remove elements"
   ]
  },
  {
   "cell_type": "code",
   "execution_count": 13,
   "id": "cbfcea68",
   "metadata": {},
   "outputs": [
    {
     "data": {
      "text/plain": [
       "['god of thunder',\n",
       " 'panther',\n",
       " 'ironman',\n",
       " 'thanos',\n",
       " 'wonder woman',\n",
       " 'antman',\n",
       " 'loki',\n",
       " 'D',\n",
       " 'C',\n",
       " 'falsh',\n",
       " 'superman',\n",
       " 'batman',\n",
       " 'aquaman']"
      ]
     },
     "execution_count": 13,
     "metadata": {},
     "output_type": "execute_result"
    }
   ],
   "source": [
    "avengers.remove('hulk')\n",
    "avengers"
   ]
  },
  {
   "cell_type": "code",
   "execution_count": 16,
   "id": "c15ca3ec",
   "metadata": {},
   "outputs": [
    {
     "data": {
      "text/plain": [
       "['god of thunder',\n",
       " 'panther',\n",
       " 'ironman',\n",
       " 'thanos',\n",
       " 'wonder woman',\n",
       " 'antman',\n",
       " 'loki',\n",
       " 'C',\n",
       " 'falsh',\n",
       " 'superman',\n",
       " 'batman',\n",
       " 'aquaman']"
      ]
     },
     "execution_count": 16,
     "metadata": {},
     "output_type": "execute_result"
    }
   ],
   "source": [
    "avengers.remove('D')\n",
    "avengers"
   ]
  },
  {
   "cell_type": "code",
   "execution_count": 18,
   "id": "4bdc6e8e",
   "metadata": {},
   "outputs": [
    {
     "data": {
      "text/plain": [
       "['god of thunder',\n",
       " 'panther',\n",
       " 'ironman',\n",
       " 'thanos',\n",
       " 'wonder woman',\n",
       " 'antman',\n",
       " 'loki',\n",
       " 'falsh',\n",
       " 'superman',\n",
       " 'batman',\n",
       " 'aquaman']"
      ]
     },
     "execution_count": 18,
     "metadata": {},
     "output_type": "execute_result"
    }
   ],
   "source": [
    "avengers.remove('C')\n",
    "avengers"
   ]
  },
  {
   "cell_type": "code",
   "execution_count": 19,
   "id": "1bd7d321",
   "metadata": {},
   "outputs": [
    {
     "data": {
      "text/plain": [
       "['god of thunder',\n",
       " 'panther',\n",
       " 'ironman',\n",
       " 'thanos',\n",
       " 'wonder woman',\n",
       " 'loki',\n",
       " 'falsh',\n",
       " 'superman',\n",
       " 'batman',\n",
       " 'aquaman']"
      ]
     },
     "execution_count": 19,
     "metadata": {},
     "output_type": "execute_result"
    }
   ],
   "source": [
    "# Alternate \n",
    "\n",
    "del avengers[5]\n",
    "avengers"
   ]
  },
  {
   "cell_type": "code",
   "execution_count": null,
   "id": "400e28e7",
   "metadata": {},
   "outputs": [],
   "source": [
    "# remove required value\n",
    "# del required index"
   ]
  },
  {
   "cell_type": "code",
   "execution_count": null,
   "id": "a686e958",
   "metadata": {},
   "outputs": [],
   "source": [
    "# Let us use pop method ,, this method returns and removes\n",
    "# the last element"
   ]
  },
  {
   "cell_type": "code",
   "execution_count": 20,
   "id": "aa6b9a95",
   "metadata": {},
   "outputs": [
    {
     "data": {
      "text/plain": [
       "['god of thunder',\n",
       " 'panther',\n",
       " 'ironman',\n",
       " 'thanos',\n",
       " 'wonder woman',\n",
       " 'loki',\n",
       " 'falsh',\n",
       " 'superman',\n",
       " 'batman',\n",
       " 'aquaman']"
      ]
     },
     "execution_count": 20,
     "metadata": {},
     "output_type": "execute_result"
    }
   ],
   "source": [
    "avengers"
   ]
  },
  {
   "cell_type": "code",
   "execution_count": 21,
   "id": "b6e6ea59",
   "metadata": {},
   "outputs": [
    {
     "data": {
      "text/plain": [
       "'aquaman'"
      ]
     },
     "execution_count": 21,
     "metadata": {},
     "output_type": "execute_result"
    }
   ],
   "source": [
    "avengers.pop()"
   ]
  },
  {
   "cell_type": "code",
   "execution_count": 22,
   "id": "75a81821",
   "metadata": {},
   "outputs": [
    {
     "data": {
      "text/plain": [
       "['god of thunder',\n",
       " 'panther',\n",
       " 'ironman',\n",
       " 'thanos',\n",
       " 'wonder woman',\n",
       " 'loki',\n",
       " 'falsh',\n",
       " 'superman',\n",
       " 'batman']"
      ]
     },
     "execution_count": 22,
     "metadata": {},
     "output_type": "execute_result"
    }
   ],
   "source": [
    "avengers"
   ]
  },
  {
   "cell_type": "code",
   "execution_count": 23,
   "id": "065b317a",
   "metadata": {},
   "outputs": [
    {
     "name": "stdout",
     "output_type": "stream",
     "text": [
      "batman\n",
      "superman\n"
     ]
    }
   ],
   "source": [
    "print(avengers.pop())\n",
    "print(avengers.pop())"
   ]
  },
  {
   "cell_type": "code",
   "execution_count": 24,
   "id": "f1dca7a2",
   "metadata": {},
   "outputs": [
    {
     "data": {
      "text/plain": [
       "['god of thunder',\n",
       " 'panther',\n",
       " 'ironman',\n",
       " 'thanos',\n",
       " 'wonder woman',\n",
       " 'loki',\n",
       " 'falsh']"
      ]
     },
     "execution_count": 24,
     "metadata": {},
     "output_type": "execute_result"
    }
   ],
   "source": [
    "avengers"
   ]
  },
  {
   "cell_type": "code",
   "execution_count": 25,
   "id": "485cfc92",
   "metadata": {},
   "outputs": [
    {
     "name": "stdout",
     "output_type": "stream",
     "text": [
      "['god of thunder', 'panther', 'ironman', 'thanos', 'wonder woman', 'loki', 'falsh']\n"
     ]
    }
   ],
   "source": [
    "print(avengers)"
   ]
  },
  {
   "cell_type": "code",
   "execution_count": null,
   "id": "690664f6",
   "metadata": {},
   "outputs": [],
   "source": [
    "# Observe the difference between \n",
    "# remove(value)  eg. avengers.remove('thanos')\n",
    "# del(index)     eg. del avengers[-1]\n",
    "# pop()          eg. avengers.pop()"
   ]
  },
  {
   "cell_type": "code",
   "execution_count": null,
   "id": "29610ffb",
   "metadata": {},
   "outputs": [],
   "source": [
    "# Let us sort the list"
   ]
  },
  {
   "cell_type": "code",
   "execution_count": 31,
   "id": "0d06d196",
   "metadata": {},
   "outputs": [
    {
     "data": {
      "text/plain": [
       "['falsh',\n",
       " 'god of thunder',\n",
       " 'ironman',\n",
       " 'loki',\n",
       " 'panther',\n",
       " 'thanos',\n",
       " 'wonder woman']"
      ]
     },
     "execution_count": 31,
     "metadata": {},
     "output_type": "execute_result"
    }
   ],
   "source": [
    "avengers.sort()\n",
    "avengers"
   ]
  },
  {
   "cell_type": "code",
   "execution_count": 35,
   "id": "bcd3bd2f",
   "metadata": {},
   "outputs": [
    {
     "data": {
      "text/plain": [
       "['wonder woman',\n",
       " 'thanos',\n",
       " 'panther',\n",
       " 'loki',\n",
       " 'ironman',\n",
       " 'god of thunder',\n",
       " 'falsh']"
      ]
     },
     "execution_count": 35,
     "metadata": {},
     "output_type": "execute_result"
    }
   ],
   "source": [
    "avengers.sort(reverse=True)\n",
    "avengers"
   ]
  },
  {
   "cell_type": "code",
   "execution_count": 32,
   "id": "fb60047e",
   "metadata": {},
   "outputs": [
    {
     "data": {
      "text/plain": [
       "False"
      ]
     },
     "execution_count": 32,
     "metadata": {},
     "output_type": "execute_result"
    }
   ],
   "source": [
    "# searching \n",
    "\n",
    "'saurabh' in avengers   # in =  membership operator"
   ]
  },
  {
   "cell_type": "code",
   "execution_count": 33,
   "id": "8ec324c7",
   "metadata": {},
   "outputs": [
    {
     "data": {
      "text/plain": [
       "True"
      ]
     },
     "execution_count": 33,
     "metadata": {},
     "output_type": "execute_result"
    }
   ],
   "source": [
    "'loki' in avengers"
   ]
  },
  {
   "cell_type": "markdown",
   "id": "aef6755f",
   "metadata": {},
   "source": [
    "# TUPLE "
   ]
  },
  {
   "cell_type": "code",
   "execution_count": null,
   "id": "568d5433",
   "metadata": {},
   "outputs": [],
   "source": [
    "# tuples represented in () paranthesis\n",
    "\n",
    "# Tuples are readonly (not mutable)\n",
    "\n",
    "# No add / update / delete {nothing will happen}"
   ]
  },
  {
   "cell_type": "code",
   "execution_count": null,
   "id": "82972c7a",
   "metadata": {},
   "outputs": [],
   "source": [
    "# Unpacking in Tuple"
   ]
  },
  {
   "cell_type": "code",
   "execution_count": 40,
   "id": "fd93417b",
   "metadata": {},
   "outputs": [
    {
     "data": {
      "text/plain": [
       "('sweet', 'sour')"
      ]
     },
     "execution_count": 40,
     "metadata": {},
     "output_type": "execute_result"
    }
   ],
   "source": [
    "flavours = ('sweet', 'sour')\n",
    "flavours"
   ]
  },
  {
   "cell_type": "code",
   "execution_count": null,
   "id": "f40be11e",
   "metadata": {},
   "outputs": [],
   "source": [
    "f1,f2= flavours # Unpacking is assignment of tuple values in variable"
   ]
  },
  {
   "cell_type": "code",
   "execution_count": 48,
   "id": "aa8c5409",
   "metadata": {},
   "outputs": [
    {
     "data": {
      "text/plain": [
       "'sweet'"
      ]
     },
     "execution_count": 48,
     "metadata": {},
     "output_type": "execute_result"
    }
   ],
   "source": [
    "f1"
   ]
  },
  {
   "cell_type": "code",
   "execution_count": 49,
   "id": "33694221",
   "metadata": {},
   "outputs": [
    {
     "data": {
      "text/plain": [
       "'sour'"
      ]
     },
     "execution_count": 49,
     "metadata": {},
     "output_type": "execute_result"
    }
   ],
   "source": [
    "f2"
   ]
  },
  {
   "cell_type": "code",
   "execution_count": 52,
   "id": "18deee24",
   "metadata": {},
   "outputs": [],
   "source": [
    "lang= [('en','english'),('fr','french'),('hi','hindi')]\n",
    "\n",
    "# its a list of tuples\n",
    "\n",
    "# k , v = ('en','english')  #unpacking"
   ]
  },
  {
   "cell_type": "code",
   "execution_count": 53,
   "id": "2e1ea818",
   "metadata": {},
   "outputs": [
    {
     "name": "stdout",
     "output_type": "stream",
     "text": [
      "('en', 'english')\n",
      "('fr', 'french')\n",
      "('hi', 'hindi')\n"
     ]
    }
   ],
   "source": [
    "for tup in lang:\n",
    "    print(tup)"
   ]
  },
  {
   "cell_type": "code",
   "execution_count": 54,
   "id": "85ac22d4",
   "metadata": {},
   "outputs": [
    {
     "name": "stdout",
     "output_type": "stream",
     "text": [
      "en english\n",
      "fr french\n",
      "hi hindi\n"
     ]
    }
   ],
   "source": [
    "for tup in lang:\n",
    "    k,v=tup\n",
    "    print(k,v)"
   ]
  },
  {
   "cell_type": "code",
   "execution_count": 56,
   "id": "06016e8d",
   "metadata": {},
   "outputs": [
    {
     "name": "stdout",
     "output_type": "stream",
     "text": [
      "en\n",
      "fr\n",
      "hi\n"
     ]
    }
   ],
   "source": [
    "for tup in lang:\n",
    "    k,v=tup\n",
    "    print(k)"
   ]
  },
  {
   "cell_type": "code",
   "execution_count": 57,
   "id": "97c91614",
   "metadata": {},
   "outputs": [
    {
     "name": "stdout",
     "output_type": "stream",
     "text": [
      "english\n",
      "french\n",
      "hindi\n"
     ]
    }
   ],
   "source": [
    "for tup in lang:\n",
    "    k,v=tup\n",
    "    print(v)"
   ]
  },
  {
   "cell_type": "markdown",
   "id": "771d1a2f",
   "metadata": {},
   "source": [
    "# SETS Data Structures"
   ]
  },
  {
   "cell_type": "code",
   "execution_count": null,
   "id": "5121d822",
   "metadata": {},
   "outputs": [],
   "source": [
    "#  Sets are represented by {} curly brackets\n",
    "\n",
    "#  Sets are known for storing UNIQUE values.\n",
    "\n",
    "#  Or sets do not allow duplicates values\n",
    "\n",
    "#  Sets are case sensitive\n",
    "\n",
    "#  Sets are unordered \n",
    "\n",
    "#  Sets do not work with indexs \n",
    "\n",
    "#  Sets in python are same as mathematical sets. "
   ]
  },
  {
   "cell_type": "code",
   "execution_count": null,
   "id": "dbb1bd0e",
   "metadata": {},
   "outputs": [],
   "source": []
  },
  {
   "cell_type": "markdown",
   "id": "77e8d65f",
   "metadata": {},
   "source": [
    "# DICTIONARY Data Structure"
   ]
  },
  {
   "cell_type": "code",
   "execution_count": null,
   "id": "9d287e90",
   "metadata": {},
   "outputs": [],
   "source": [
    "# Dict is also represented by {} curly brackets\n",
    "\n",
    "# dictionary (key:value)\n",
    "\n",
    "# grammer  :-   {k:v , k:v , k:v , k:v }\n",
    "\n",
    "# seperator b/w k and v is : (colon)\n",
    "\n",
    "# seperator b/w k:v is , (comma)\n",
    "\n",
    "# "
   ]
  },
  {
   "cell_type": "code",
   "execution_count": 90,
   "id": "d3bf1c37",
   "metadata": {},
   "outputs": [
    {
     "data": {
      "text/plain": [
       "{'en': 'english', 'fr': 'french', 'hi': 'hindi', 'es': 'spanish'}"
      ]
     },
     "execution_count": 90,
     "metadata": {},
     "output_type": "execute_result"
    }
   ],
   "source": [
    "lang={'en':'english','fr':'french','hi':'hindi','es':'spanish'}\n",
    " \n",
    "lang       \n",
    "       "
   ]
  },
  {
   "cell_type": "code",
   "execution_count": null,
   "id": "cbb9e272",
   "metadata": {},
   "outputs": [],
   "source": [
    "# Let us learn expression to add a new key value pair"
   ]
  },
  {
   "cell_type": "code",
   "execution_count": 91,
   "id": "19ecf241",
   "metadata": {},
   "outputs": [
    {
     "name": "stdout",
     "output_type": "stream",
     "text": [
      "{'en': 'english', 'fr': 'french', 'hi': 'hindi', 'es': 'spanish', 'tl': 'telugu'}\n"
     ]
    }
   ],
   "source": [
    "lang['tl']='telugu'\n",
    "\n",
    "print(lang)"
   ]
  },
  {
   "cell_type": "code",
   "execution_count": 92,
   "id": "5a9d685b",
   "metadata": {},
   "outputs": [
    {
     "data": {
      "text/plain": [
       "{'en': 'english',\n",
       " 'fr': 'french',\n",
       " 'hi': 'hindi',\n",
       " 'es': 'spanish',\n",
       " 'tl': 'telugu'}"
      ]
     },
     "execution_count": 92,
     "metadata": {},
     "output_type": "execute_result"
    }
   ],
   "source": [
    "lang"
   ]
  },
  {
   "cell_type": "code",
   "execution_count": 76,
   "id": "dbe6466c",
   "metadata": {},
   "outputs": [
    {
     "data": {
      "text/plain": [
       "'hindi'"
      ]
     },
     "execution_count": 76,
     "metadata": {},
     "output_type": "execute_result"
    }
   ],
   "source": [
    "# Let us learn how to access a value using key\n",
    "\n",
    "lang['hi']"
   ]
  },
  {
   "cell_type": "code",
   "execution_count": 77,
   "id": "c8fdd6a2",
   "metadata": {},
   "outputs": [
    {
     "ename": "KeyError",
     "evalue": "'xo'",
     "output_type": "error",
     "traceback": [
      "\u001b[1;31m---------------------------------------------------------------------------\u001b[0m",
      "\u001b[1;31mKeyError\u001b[0m                                  Traceback (most recent call last)",
      "\u001b[1;32m<ipython-input-77-6020d23c7f6e>\u001b[0m in \u001b[0;36m<module>\u001b[1;34m\u001b[0m\n\u001b[0;32m      1\u001b[0m \u001b[1;31m# Let us learn when u provide a key which does't exists\u001b[0m\u001b[1;33m\u001b[0m\u001b[1;33m\u001b[0m\u001b[1;33m\u001b[0m\u001b[0m\n\u001b[0;32m      2\u001b[0m \u001b[1;33m\u001b[0m\u001b[0m\n\u001b[1;32m----> 3\u001b[1;33m \u001b[0mlang\u001b[0m\u001b[1;33m[\u001b[0m\u001b[1;34m'xo'\u001b[0m\u001b[1;33m]\u001b[0m\u001b[1;33m\u001b[0m\u001b[1;33m\u001b[0m\u001b[0m\n\u001b[0m",
      "\u001b[1;31mKeyError\u001b[0m: 'xo'"
     ]
    }
   ],
   "source": [
    "# Let us learn when u provide a key which does't exists\n",
    "\n",
    "lang['xo']"
   ]
  },
  {
   "cell_type": "code",
   "execution_count": 93,
   "id": "1d0c5429",
   "metadata": {},
   "outputs": [
    {
     "data": {
      "text/plain": [
       "'hindi'"
      ]
     },
     "execution_count": 93,
     "metadata": {},
     "output_type": "execute_result"
    }
   ],
   "source": [
    "# Introducing get method\n",
    "\n",
    "lang.get('hi')    # lang['hi']"
   ]
  },
  {
   "cell_type": "code",
   "execution_count": 79,
   "id": "29d79519",
   "metadata": {},
   "outputs": [],
   "source": [
    "# Advantage of get method is when we provide a key which is not exists , it will not throw any error\n",
    "\n",
    "lang.get('xo')  # here i run this code but i can't see the output or any error"
   ]
  },
  {
   "cell_type": "code",
   "execution_count": 94,
   "id": "dec2f862",
   "metadata": {},
   "outputs": [
    {
     "data": {
      "text/plain": [
       "\"key does't exist\""
      ]
     },
     "execution_count": 94,
     "metadata": {},
     "output_type": "execute_result"
    }
   ],
   "source": [
    "# Best part is, if we want to produce a default value then we can produce\n",
    "\n",
    "lang.get('xo', \"key does't exist\")"
   ]
  },
  {
   "cell_type": "code",
   "execution_count": 95,
   "id": "74631daf",
   "metadata": {},
   "outputs": [
    {
     "data": {
      "text/plain": [
       "'NA'"
      ]
     },
     "execution_count": 95,
     "metadata": {},
     "output_type": "execute_result"
    }
   ],
   "source": [
    "lang.get('anykey', 'NA')"
   ]
  },
  {
   "cell_type": "code",
   "execution_count": 96,
   "id": "b4e0555d",
   "metadata": {},
   "outputs": [
    {
     "data": {
      "text/plain": [
       "{'en': 'english',\n",
       " 'fr': 'french',\n",
       " 'hi': 'hindi',\n",
       " 'es': 'spanish',\n",
       " 'tl': 'telugu'}"
      ]
     },
     "execution_count": 96,
     "metadata": {},
     "output_type": "execute_result"
    }
   ],
   "source": [
    "lang"
   ]
  },
  {
   "cell_type": "code",
   "execution_count": 97,
   "id": "c262e930",
   "metadata": {},
   "outputs": [
    {
     "data": {
      "text/plain": [
       "dict_keys(['en', 'fr', 'hi', 'es', 'tl'])"
      ]
     },
     "execution_count": 97,
     "metadata": {},
     "output_type": "execute_result"
    }
   ],
   "source": [
    "# keys method  :   this keys method will help us to fetch only keys from dictionary\n",
    "\n",
    "lang.keys()"
   ]
  },
  {
   "cell_type": "code",
   "execution_count": 98,
   "id": "04134055",
   "metadata": {},
   "outputs": [
    {
     "data": {
      "text/plain": [
       "dict_values(['english', 'french', 'hindi', 'spanish', 'telugu'])"
      ]
     },
     "execution_count": 98,
     "metadata": {},
     "output_type": "execute_result"
    }
   ],
   "source": [
    "# values method  :   this values method will help us to fetch only values from dictionary\n",
    "\n",
    "lang.values()\n"
   ]
  },
  {
   "cell_type": "code",
   "execution_count": 99,
   "id": "981cdc3b",
   "metadata": {},
   "outputs": [
    {
     "name": "stdout",
     "output_type": "stream",
     "text": [
      "en\n",
      "fr\n",
      "hi\n",
      "es\n",
      "tl\n"
     ]
    }
   ],
   "source": [
    "for k in lang.keys():   # traversing\n",
    "    print(k)"
   ]
  },
  {
   "cell_type": "code",
   "execution_count": 100,
   "id": "71c35e04",
   "metadata": {},
   "outputs": [
    {
     "name": "stdout",
     "output_type": "stream",
     "text": [
      "english\n",
      "french\n",
      "hindi\n",
      "spanish\n",
      "telugu\n"
     ]
    }
   ],
   "source": [
    "for v in lang.values():  # traversing\n",
    "    print(v)"
   ]
  },
  {
   "cell_type": "code",
   "execution_count": 101,
   "id": "dd3cd3b9",
   "metadata": {},
   "outputs": [
    {
     "data": {
      "text/plain": [
       "dict_items([('en', 'english'), ('fr', 'french'), ('hi', 'hindi'), ('es', 'spanish'), ('tl', 'telugu')])"
      ]
     },
     "execution_count": 101,
     "metadata": {},
     "output_type": "execute_result"
    }
   ],
   "source": [
    "# items method  :  this is used to change the dict into list of tuples\n",
    "\n",
    "lang.items()"
   ]
  },
  {
   "cell_type": "code",
   "execution_count": 103,
   "id": "b49e2ddd",
   "metadata": {},
   "outputs": [
    {
     "name": "stdout",
     "output_type": "stream",
     "text": [
      "('en', 'english')\n",
      "('fr', 'french')\n",
      "('hi', 'hindi')\n",
      "('es', 'spanish')\n",
      "('tl', 'telugu')\n"
     ]
    }
   ],
   "source": [
    "for bag in lang.items():  # traversing  # fetching one tuple at a time into bag\n",
    "    print(bag)            # bag is also a tuple\n",
    "    "
   ]
  },
  {
   "cell_type": "code",
   "execution_count": null,
   "id": "81796949",
   "metadata": {},
   "outputs": [],
   "source": [
    "k,v=('en','english')  # this is unpacking"
   ]
  },
  {
   "cell_type": "code",
   "execution_count": 104,
   "id": "c289c0f5",
   "metadata": {},
   "outputs": [
    {
     "name": "stdout",
     "output_type": "stream",
     "text": [
      "en\n",
      "fr\n",
      "hi\n",
      "es\n",
      "tl\n"
     ]
    }
   ],
   "source": [
    "for bag in lang.items():     # fetching onlu key by traversing\n",
    "    k,v=bag\n",
    "    print(k)"
   ]
  },
  {
   "cell_type": "code",
   "execution_count": 105,
   "id": "8bfcb13f",
   "metadata": {},
   "outputs": [
    {
     "name": "stdout",
     "output_type": "stream",
     "text": [
      "english\n",
      "french\n",
      "hindi\n",
      "spanish\n",
      "telugu\n"
     ]
    }
   ],
   "source": [
    "for bag in lang.items():   # fetching only values by traversing\n",
    "    k,v=bag\n",
    "    print(v)"
   ]
  },
  {
   "cell_type": "code",
   "execution_count": null,
   "id": "e1b76ddd",
   "metadata": {},
   "outputs": [],
   "source": [
    "# Python Hands-on exercises"
   ]
  },
  {
   "cell_type": "code",
   "execution_count": null,
   "id": "78569ce3",
   "metadata": {},
   "outputs": [],
   "source": [
    "# Mantra(Concept of Python)\n",
    "\n",
    "# Converting a String -> List\n",
    "\n",
    "# Converting a List -> String"
   ]
  },
  {
   "cell_type": "code",
   "execution_count": null,
   "id": "eee74fcc",
   "metadata": {},
   "outputs": [],
   "source": [
    "# Sample string"
   ]
  },
  {
   "cell_type": "code",
   "execution_count": 107,
   "id": "8448797d",
   "metadata": {},
   "outputs": [
    {
     "data": {
      "text/plain": [
       "'Life is short. Smile while you still have teeth.'"
      ]
     },
     "execution_count": 107,
     "metadata": {},
     "output_type": "execute_result"
    }
   ],
   "source": [
    "quote =  \"Life is short. Smile while you still have teeth.\"\n",
    "quote"
   ]
  },
  {
   "cell_type": "code",
   "execution_count": null,
   "id": "7d3b3e31",
   "metadata": {},
   "outputs": [],
   "source": [
    "# Split method :   it produces the list\n",
    "\n",
    "# split method help me to slicing the string into small words into alist form"
   ]
  },
  {
   "cell_type": "code",
   "execution_count": 108,
   "id": "b16de573",
   "metadata": {},
   "outputs": [
    {
     "data": {
      "text/plain": [
       "['Life', 'is', 'short.', 'Smile', 'while', 'you', 'still', 'have', 'teeth.']"
      ]
     },
     "execution_count": 108,
     "metadata": {},
     "output_type": "execute_result"
    }
   ],
   "source": [
    "quote.split(' ')  # seperator b/w words in the string is space (' ')\n"
   ]
  },
  {
   "cell_type": "code",
   "execution_count": 109,
   "id": "b8e3fde0",
   "metadata": {},
   "outputs": [
    {
     "data": {
      "text/plain": [
       "'ramesh,suresh,mohan'"
      ]
     },
     "execution_count": 109,
     "metadata": {},
     "output_type": "execute_result"
    }
   ],
   "source": [
    "# Another Example\n",
    "\n",
    "people = \"ramesh,suresh,mohan\"  # this is string\n",
    "people\n"
   ]
  },
  {
   "cell_type": "code",
   "execution_count": 113,
   "id": "7a66cde8",
   "metadata": {},
   "outputs": [],
   "source": [
    "people_list= people.split(',')"
   ]
  },
  {
   "cell_type": "code",
   "execution_count": 114,
   "id": "a025c672",
   "metadata": {},
   "outputs": [
    {
     "data": {
      "text/plain": [
       "['ramesh', 'suresh', 'mohan']"
      ]
     },
     "execution_count": 114,
     "metadata": {},
     "output_type": "execute_result"
    }
   ],
   "source": [
    "people_list  # the output is list"
   ]
  },
  {
   "cell_type": "code",
   "execution_count": 115,
   "id": "5ce7d3a9",
   "metadata": {},
   "outputs": [],
   "source": [
    "people_list.sort()"
   ]
  },
  {
   "cell_type": "code",
   "execution_count": 116,
   "id": "d7bc47ca",
   "metadata": {},
   "outputs": [
    {
     "data": {
      "text/plain": [
       "['mohan', 'ramesh', 'suresh']"
      ]
     },
     "execution_count": 116,
     "metadata": {},
     "output_type": "execute_result"
    }
   ],
   "source": [
    "people_list"
   ]
  },
  {
   "cell_type": "code",
   "execution_count": 117,
   "id": "9a394395",
   "metadata": {},
   "outputs": [
    {
     "data": {
      "text/plain": [
       "'mohan-ramesh-suresh'"
      ]
     },
     "execution_count": 117,
     "metadata": {},
     "output_type": "execute_result"
    }
   ],
   "source": [
    "# join method :  it is used to merge the elements of list\n",
    "\n",
    "sep= \"-\"\n",
    "\n",
    "sep.join(people_list)"
   ]
  },
  {
   "cell_type": "code",
   "execution_count": 119,
   "id": "cdddb199",
   "metadata": {},
   "outputs": [
    {
     "data": {
      "text/plain": [
       "'mohan ramesh suresh'"
      ]
     },
     "execution_count": 119,
     "metadata": {},
     "output_type": "execute_result"
    }
   ],
   "source": [
    "sep= \" \"\n",
    "sep.join(people_list)\n"
   ]
  },
  {
   "cell_type": "markdown",
   "id": "b3b053fb",
   "metadata": {},
   "source": [
    "# TASK : 1"
   ]
  },
  {
   "cell_type": "code",
   "execution_count": 123,
   "id": "fd030db5",
   "metadata": {},
   "outputs": [],
   "source": [
    "giftbox= ['iph*one',\"Car Charger\",'i*pad','ford','Pencil','G*old','Paper']\n",
    "\n",
    "# objective : is to print only those elements containing '*'"
   ]
  },
  {
   "cell_type": "code",
   "execution_count": 124,
   "id": "e27be9f5",
   "metadata": {},
   "outputs": [
    {
     "data": {
      "text/plain": [
       "['iph*one', 'Car Charger', 'i*pad', 'ford', 'Pencil', 'G*old', 'Paper']"
      ]
     },
     "execution_count": 124,
     "metadata": {},
     "output_type": "execute_result"
    }
   ],
   "source": [
    "giftbox"
   ]
  },
  {
   "cell_type": "code",
   "execution_count": 126,
   "id": "24b30dd9",
   "metadata": {},
   "outputs": [
    {
     "name": "stdout",
     "output_type": "stream",
     "text": [
      "iph*one\n",
      "i*pad\n",
      "G*old\n"
     ]
    }
   ],
   "source": [
    "# My approach / Instructor(Rajan sir approach)\n",
    "\n",
    "for i in giftbox:\n",
    "    if '*'in i:\n",
    "        print(i)"
   ]
  },
  {
   "cell_type": "code",
   "execution_count": 128,
   "id": "9cac195c",
   "metadata": {},
   "outputs": [
    {
     "name": "stdout",
     "output_type": "stream",
     "text": [
      "['iph*one', 'i*pad', 'G*old']\n"
     ]
    }
   ],
   "source": [
    "# Alternative approach :1\n",
    "\n",
    "x=[]\n",
    "for i in giftbox:\n",
    "    if \"*\" in i:\n",
    "        x.append(i)\n",
    "print(x)\n"
   ]
  },
  {
   "cell_type": "markdown",
   "id": "0168d0ac",
   "metadata": {},
   "source": [
    "# TASK : 2"
   ]
  },
  {
   "cell_type": "code",
   "execution_count": 2,
   "id": "82e5e702",
   "metadata": {},
   "outputs": [],
   "source": [
    "tweet = 'i m not #hungry. but i m #bored. therefore i shall #eat'"
   ]
  },
  {
   "cell_type": "code",
   "execution_count": 3,
   "id": "a51d6cd4",
   "metadata": {},
   "outputs": [
    {
     "data": {
      "text/plain": [
       "'i m not #hungry. but i m #bored. therefore i shall #eat'"
      ]
     },
     "execution_count": 3,
     "metadata": {},
     "output_type": "execute_result"
    }
   ],
   "source": [
    "tweet"
   ]
  },
  {
   "cell_type": "code",
   "execution_count": null,
   "id": "52925bad",
   "metadata": {},
   "outputs": [],
   "source": [
    "# objective  :  is to extract the hashtags\n",
    "# expected output :\n",
    "\n",
    "# hungry\n",
    "# bored\n",
    "# eat"
   ]
  },
  {
   "cell_type": "code",
   "execution_count": 14,
   "id": "869a311c",
   "metadata": {},
   "outputs": [],
   "source": [
    "# Rajan sir approach\n",
    "\n",
    "# let us split the string into list\n",
    "\n",
    "tweet_list = tweet.split()"
   ]
  },
  {
   "cell_type": "code",
   "execution_count": 15,
   "id": "8b13cc83",
   "metadata": {},
   "outputs": [
    {
     "data": {
      "text/plain": [
       "['i',\n",
       " 'm',\n",
       " 'not',\n",
       " '#hungry.',\n",
       " 'but',\n",
       " 'i',\n",
       " 'm',\n",
       " '#bored.',\n",
       " 'therefore',\n",
       " 'i',\n",
       " 'shall',\n",
       " '#eat']"
      ]
     },
     "execution_count": 15,
     "metadata": {},
     "output_type": "execute_result"
    }
   ],
   "source": [
    "tweet_list"
   ]
  },
  {
   "cell_type": "code",
   "execution_count": 16,
   "id": "67edcab8",
   "metadata": {},
   "outputs": [
    {
     "name": "stdout",
     "output_type": "stream",
     "text": [
      "i\n",
      "m\n",
      "not\n",
      "#hungry.\n",
      "but\n",
      "i\n",
      "m\n",
      "#bored.\n",
      "therefore\n",
      "i\n",
      "shall\n",
      "#eat\n"
     ]
    }
   ],
   "source": [
    "# let us traverse through the list\n",
    "\n",
    "for words in tweet_list:\n",
    "        print(words)\n",
    "        "
   ]
  },
  {
   "cell_type": "code",
   "execution_count": 17,
   "id": "7908a301",
   "metadata": {},
   "outputs": [
    {
     "name": "stdout",
     "output_type": "stream",
     "text": [
      "#hungry.\n",
      "#bored.\n",
      "#eat\n"
     ]
    }
   ],
   "source": [
    "# let us add a filter\n",
    "\n",
    "for words in tweet_list:\n",
    "    if '#' in words:\n",
    "        print(words)"
   ]
  },
  {
   "cell_type": "code",
   "execution_count": 19,
   "id": "fc0c3cf6",
   "metadata": {},
   "outputs": [
    {
     "name": "stdout",
     "output_type": "stream",
     "text": [
      "i\n",
      "m\n",
      "n\n",
      "#\n",
      "b\n",
      "i\n",
      "m\n",
      "#\n",
      "t\n",
      "i\n",
      "s\n",
      "#\n"
     ]
    }
   ],
   "source": [
    "# Alternative approach  : 1\n",
    "\n",
    "for words in tweet_list:\n",
    "        print(words[0])   # all the hashtags word's first character is \"#\"\n",
    "        "
   ]
  },
  {
   "cell_type": "code",
   "execution_count": 24,
   "id": "70fd6760",
   "metadata": {},
   "outputs": [
    {
     "name": "stdout",
     "output_type": "stream",
     "text": [
      "#hungry.\n",
      "#bored.\n",
      "#eat\n"
     ]
    }
   ],
   "source": [
    "for words in tweet_list:\n",
    "    \n",
    "    if words[0]=='#':\n",
    "        print(words)"
   ]
  },
  {
   "cell_type": "code",
   "execution_count": 27,
   "id": "61f039a2",
   "metadata": {},
   "outputs": [
    {
     "name": "stdout",
     "output_type": "stream",
     "text": [
      "#hungry.\n",
      "#bored.\n",
      "#eat\n"
     ]
    }
   ],
   "source": [
    "#  Alternative : 2\n",
    "\n",
    "for words in tweet_list:\n",
    "    if words.startswith('#'):\n",
    "        print(words)"
   ]
  },
  {
   "cell_type": "code",
   "execution_count": 31,
   "id": "4fcce930",
   "metadata": {},
   "outputs": [
    {
     "name": "stdout",
     "output_type": "stream",
     "text": [
      "#hungry\n",
      "#bored\n",
      "#eat\n"
     ]
    }
   ],
   "source": [
    "# if we want to remove the dot . from the output also\n",
    "for words in tweet_list:\n",
    "    if words.startswith('#'):\n",
    "        print(words.strip('.'))      # then we can use strip method  (removing the symbol)"
   ]
  },
  {
   "cell_type": "markdown",
   "id": "ccbc2307",
   "metadata": {},
   "source": [
    "# TASK : 3"
   ]
  },
  {
   "cell_type": "code",
   "execution_count": 32,
   "id": "3211f123",
   "metadata": {},
   "outputs": [
    {
     "data": {
      "text/plain": [
       "True"
      ]
     },
     "execution_count": 32,
     "metadata": {},
     "output_type": "execute_result"
    }
   ],
   "source": [
    "# Introducing a function\n",
    "\n",
    "# isdigit()\n",
    "\n",
    "# e.g\n",
    "\n",
    "'10'.isdigit()"
   ]
  },
  {
   "cell_type": "code",
   "execution_count": 33,
   "id": "1fb5425f",
   "metadata": {},
   "outputs": [
    {
     "data": {
      "text/plain": [
       "False"
      ]
     },
     "execution_count": 33,
     "metadata": {},
     "output_type": "execute_result"
    }
   ],
   "source": [
    "'a'.isdigit()"
   ]
  },
  {
   "cell_type": "code",
   "execution_count": 39,
   "id": "62e0fd2c",
   "metadata": {},
   "outputs": [],
   "source": [
    "# Rajan sir approach\n",
    "\n",
    "result = 'math = 91 science = 85 english = 78'\n",
    "\n",
    "# objective :  - is to find the total score i.e 91+ 85 + 78\n",
    "#              - is to find the average of total score"
   ]
  },
  {
   "cell_type": "code",
   "execution_count": 40,
   "id": "fd4f92f9",
   "metadata": {},
   "outputs": [
    {
     "data": {
      "text/plain": [
       "'math = 91 science = 85 english = 78'"
      ]
     },
     "execution_count": 40,
     "metadata": {},
     "output_type": "execute_result"
    }
   ],
   "source": [
    "result"
   ]
  },
  {
   "cell_type": "code",
   "execution_count": 50,
   "id": "2e9db0a5",
   "metadata": {},
   "outputs": [
    {
     "data": {
      "text/plain": [
       "['math', '=', '91', 'science', '=', '85', 'english', '=', '78']"
      ]
     },
     "execution_count": 50,
     "metadata": {},
     "output_type": "execute_result"
    }
   ],
   "source": [
    "# let us split the string into list\n",
    "\n",
    "result_list = result.split()\n",
    "result_list"
   ]
  },
  {
   "cell_type": "code",
   "execution_count": 53,
   "id": "e11b4c9d",
   "metadata": {},
   "outputs": [
    {
     "name": "stdout",
     "output_type": "stream",
     "text": [
      "math ---------- False\n",
      "= ---------- False\n",
      "91 ---------- True\n",
      "science ---------- False\n",
      "= ---------- False\n",
      "85 ---------- True\n",
      "english ---------- False\n",
      "= ---------- False\n",
      "78 ---------- True\n"
     ]
    }
   ],
   "source": [
    "# lets us traverse through list\n",
    " \n",
    "for word in result_list:\n",
    "    print(word,'----------',word.isdigit())\n",
    "    "
   ]
  },
  {
   "cell_type": "code",
   "execution_count": 54,
   "id": "29c9706c",
   "metadata": {},
   "outputs": [
    {
     "name": "stdout",
     "output_type": "stream",
     "text": [
      "91\n",
      "85\n",
      "78\n"
     ]
    }
   ],
   "source": [
    "for word in result_list:\n",
    "    \n",
    "    if word.isdigit():\n",
    "        print(word)"
   ]
  },
  {
   "cell_type": "code",
   "execution_count": 56,
   "id": "1841e285",
   "metadata": {},
   "outputs": [],
   "source": [
    "scores_list = []     # i decided to create a new list"
   ]
  },
  {
   "cell_type": "code",
   "execution_count": 75,
   "id": "55061da4",
   "metadata": {},
   "outputs": [],
   "source": [
    "for word in result_list:\n",
    "    \n",
    "    if word.isdigit()==True:\n",
    "        \n",
    "        # i decided whenever the word is found to be digit lets add the word into list\n",
    "        \n",
    "        \n",
    "        # i can observe in scores_list the number are in quotations\n",
    "        # that means they are strings not integers\n",
    "        # so math is not possible.\n",
    "\n",
    "        # so i need to convert the string into integers\n",
    "        \n",
    "        \n",
    "        scores_list.append(int(word))    # converting string into integer"
   ]
  },
  {
   "cell_type": "code",
   "execution_count": 78,
   "id": "b0abd3b5",
   "metadata": {},
   "outputs": [
    {
     "data": {
      "text/plain": [
       "[91, 85, 78]"
      ]
     },
     "execution_count": 78,
     "metadata": {},
     "output_type": "execute_result"
    }
   ],
   "source": [
    "scores_list"
   ]
  },
  {
   "cell_type": "code",
   "execution_count": 79,
   "id": "fbaaebe4",
   "metadata": {},
   "outputs": [
    {
     "name": "stdout",
     "output_type": "stream",
     "text": [
      "total score 254\n",
      "average 84.66666666666667\n"
     ]
    }
   ],
   "source": [
    "print('total score',sum(scores_list))    # here sum is built in ready made function\n",
    "\n",
    "# avg is total/no of elements\n",
    "\n",
    "print('average', sum(scores_list)/len(scores_list))"
   ]
  },
  {
   "cell_type": "code",
   "execution_count": 81,
   "id": "430dc7ff",
   "metadata": {},
   "outputs": [
    {
     "name": "stdout",
     "output_type": "stream",
     "text": [
      "254\n",
      "84.66666666666667\n"
     ]
    }
   ],
   "source": [
    "# Alternate  :  1\n",
    "\n",
    "result = 'math = 91 science = 85 english = 78'\n",
    "result = result.split(' ')\n",
    "sum1=0\n",
    "cnt=0\n",
    "\n",
    "for no in result:\n",
    "    if no.isdigit():\n",
    "        sum1+=int(no)\n",
    "        cnt+=1\n",
    "print(sum1)\n",
    "avg= sum1/cnt\n",
    "print(avg)\n"
   ]
  },
  {
   "cell_type": "code",
   "execution_count": 83,
   "id": "5d9b2fb5",
   "metadata": {},
   "outputs": [
    {
     "name": "stdout",
     "output_type": "stream",
     "text": [
      "Total Score = 254 and the Average is 84.66666666666667 \n"
     ]
    }
   ],
   "source": [
    "# Alternate  :  2\n",
    "\n",
    "result = 'math = 91 science = 85 english = 78'\n",
    "result = result.split(' ')\n",
    "sum1=0\n",
    "cnt=0\n",
    "\n",
    "for no in result:\n",
    "    if no.isdigit():\n",
    "        sum1+=int(no)\n",
    "        cnt+=1\n",
    "        \n",
    "print( 'Total Score = {} and the Average is {} '.format(sum1,(sum1/cnt)))"
   ]
  },
  {
   "cell_type": "markdown",
   "id": "72d35810",
   "metadata": {},
   "source": [
    "# TASK : 4"
   ]
  },
  {
   "cell_type": "code",
   "execution_count": 92,
   "id": "c45121e0",
   "metadata": {},
   "outputs": [
    {
     "data": {
      "text/plain": [
       "['hello',\n",
       " 'welcome',\n",
       " [10, 20],\n",
       " ['a', 'b', 'c', [30, 40, 50, ['findme']]],\n",
       " '60,70']"
      ]
     },
     "execution_count": 92,
     "metadata": {},
     "output_type": "execute_result"
    }
   ],
   "source": [
    "my_list= ['hello','welcome',[10,20],['a','b','c',[30,40,50,['findme']]],'60,70']\n",
    "\n",
    "# Targets : List Indexing\n",
    "\n",
    "# objective : extract findme ( s a string indexing)\n",
    "\n",
    "my_list"
   ]
  },
  {
   "cell_type": "code",
   "execution_count": 93,
   "id": "0a8d625a",
   "metadata": {},
   "outputs": [
    {
     "data": {
      "text/plain": [
       "['a', 'b', 'c', [30, 40, 50, ['findme']]]"
      ]
     },
     "execution_count": 93,
     "metadata": {},
     "output_type": "execute_result"
    }
   ],
   "source": [
    "my_list[3]\n"
   ]
  },
  {
   "cell_type": "code",
   "execution_count": 95,
   "id": "29d2b6b6",
   "metadata": {},
   "outputs": [
    {
     "data": {
      "text/plain": [
       "[30, 40, 50, ['findme']]"
      ]
     },
     "execution_count": 95,
     "metadata": {},
     "output_type": "execute_result"
    }
   ],
   "source": [
    "my_list[3][3]"
   ]
  },
  {
   "cell_type": "code",
   "execution_count": 96,
   "id": "9273cba5",
   "metadata": {},
   "outputs": [
    {
     "data": {
      "text/plain": [
       "['findme']"
      ]
     },
     "execution_count": 96,
     "metadata": {},
     "output_type": "execute_result"
    }
   ],
   "source": [
    "my_list[3][3][-1]"
   ]
  },
  {
   "cell_type": "code",
   "execution_count": 97,
   "id": "0d126dee",
   "metadata": {},
   "outputs": [
    {
     "data": {
      "text/plain": [
       "'findme'"
      ]
     },
     "execution_count": 97,
     "metadata": {},
     "output_type": "execute_result"
    }
   ],
   "source": [
    "my_list[3][3][-1][0]"
   ]
  },
  {
   "cell_type": "code",
   "execution_count": 98,
   "id": "1f899206",
   "metadata": {},
   "outputs": [
    {
     "data": {
      "text/plain": [
       "'findme'"
      ]
     },
     "execution_count": 98,
     "metadata": {},
     "output_type": "execute_result"
    }
   ],
   "source": [
    "my_list[3][3][3][0]"
   ]
  },
  {
   "cell_type": "markdown",
   "id": "1cd861e0",
   "metadata": {},
   "source": [
    "# TASK : 5"
   ]
  },
  {
   "cell_type": "code",
   "execution_count": 99,
   "id": "c34de7ae",
   "metadata": {},
   "outputs": [
    {
     "data": {
      "text/plain": [
       "{'FL': ['Alabama',\n",
       "  'Florida',\n",
       "  'Alaska',\n",
       "  {'HI': ['Hawai', 'Inception', {'Lock': ['find', 'the', 'key']}]}]}"
      ]
     },
     "execution_count": 99,
     "metadata": {},
     "output_type": "execute_result"
    }
   ],
   "source": [
    "my_dict = {'FL':['Alabama','Florida','Alaska',{'HI':['Hawai','Inception',{'Lock':['find','the','key']}]}]}\n",
    "\n",
    "# Targets : Dictionary Understanding\n",
    "\n",
    "# Objective : is to find 'key'\n",
    "\n",
    "my_dict"
   ]
  },
  {
   "cell_type": "code",
   "execution_count": null,
   "id": "4b2212b9",
   "metadata": {},
   "outputs": [],
   "source": [
    "# We will use key whenever we will find that it is Dictionary\n",
    "\n",
    "# We will use index whenever we will find it is a List"
   ]
  },
  {
   "cell_type": "code",
   "execution_count": 109,
   "id": "ea421389",
   "metadata": {},
   "outputs": [
    {
     "data": {
      "text/plain": [
       "['Alabama',\n",
       " 'Florida',\n",
       " 'Alaska',\n",
       " {'HI': ['Hawai', 'Inception', {'Lock': ['find', 'the', 'key']}]}]"
      ]
     },
     "execution_count": 109,
     "metadata": {},
     "output_type": "execute_result"
    }
   ],
   "source": [
    "my_dict['FL']"
   ]
  },
  {
   "cell_type": "code",
   "execution_count": 105,
   "id": "453d921f",
   "metadata": {},
   "outputs": [
    {
     "data": {
      "text/plain": [
       "{'HI': ['Hawai', 'Inception', {'Lock': ['find', 'the', 'key']}]}"
      ]
     },
     "execution_count": 105,
     "metadata": {},
     "output_type": "execute_result"
    }
   ],
   "source": [
    "my_dict['FL'][3]"
   ]
  },
  {
   "cell_type": "code",
   "execution_count": 106,
   "id": "ffdd06ae",
   "metadata": {},
   "outputs": [
    {
     "data": {
      "text/plain": [
       "{'Lock': ['find', 'the', 'key']}"
      ]
     },
     "execution_count": 106,
     "metadata": {},
     "output_type": "execute_result"
    }
   ],
   "source": [
    "my_dict['FL'][3]['HI'][2]"
   ]
  },
  {
   "cell_type": "code",
   "execution_count": 107,
   "id": "4361eac7",
   "metadata": {},
   "outputs": [
    {
     "data": {
      "text/plain": [
       "'key'"
      ]
     },
     "execution_count": 107,
     "metadata": {},
     "output_type": "execute_result"
    }
   ],
   "source": [
    "my_dict['FL'][3][\"HI\"][2]['Lock'][-1]\n"
   ]
  },
  {
   "cell_type": "code",
   "execution_count": 108,
   "id": "025af40f",
   "metadata": {},
   "outputs": [
    {
     "data": {
      "text/plain": [
       "'key'"
      ]
     },
     "execution_count": 108,
     "metadata": {},
     "output_type": "execute_result"
    }
   ],
   "source": [
    "my_dict['FL'][3][\"HI\"][-1]['Lock'][-1]"
   ]
  },
  {
   "cell_type": "code",
   "execution_count": 112,
   "id": "9b5a5dfb",
   "metadata": {},
   "outputs": [
    {
     "data": {
      "text/plain": [
       "'key'"
      ]
     },
     "execution_count": 112,
     "metadata": {},
     "output_type": "execute_result"
    }
   ],
   "source": [
    "my_dict['FL'][-1][\"HI\"][-1]['Lock'][-1]"
   ]
  },
  {
   "cell_type": "markdown",
   "id": "1b8bd5e2",
   "metadata": {},
   "source": [
    "# TASK : 6"
   ]
  },
  {
   "cell_type": "code",
   "execution_count": null,
   "id": "6aac368e",
   "metadata": {},
   "outputs": [],
   "source": [
    "# Targets : Basic string Manupulation\n",
    "\n",
    "# Encryption Algorithm By Rajan Sir { as similar to the upGrade coding Question}\n",
    "\n",
    "- Write a code that encryptes a given input with these steps\n",
    "\n",
    "Input : 'apple'\n",
    "\n",
    "Step 1 : Reverse the input : 'elppa'\n",
    "        \n",
    "Step 2 : Replace all vowels using the following chart: \n",
    "        \n",
    "        a=>0\n",
    "        e=>1\n",
    "        i=>2\n",
    "        o=>3\n",
    "        u=>4\n",
    "        \n",
    "        '1lppo'\n",
    "        \n",
    "Step 3 : add 'aca' to the end of the word : '1lpp0aca'\n",
    "        \n",
    "        ------end of exercise \n",
    "        \n",
    "        # sample test cases \n",
    "        # input : 'banana' -> '0n0n0baca'\n",
    "        # input : 'karaca' -> '0c0r0kaca'"
   ]
  },
  {
   "cell_type": "code",
   "execution_count": 116,
   "id": "d5930c9e",
   "metadata": {},
   "outputs": [
    {
     "data": {
      "text/plain": [
       "'apple'"
      ]
     },
     "execution_count": 116,
     "metadata": {},
     "output_type": "execute_result"
    }
   ],
   "source": [
    "msg = 'apple'\n",
    "msg"
   ]
  },
  {
   "cell_type": "code",
   "execution_count": 119,
   "id": "ad7fd95a",
   "metadata": {},
   "outputs": [
    {
     "name": "stdout",
     "output_type": "stream",
     "text": [
      "elppa\n"
     ]
    }
   ],
   "source": [
    "# Step 1 : reverse the input\n",
    "\n",
    "rev_msg = msg[::-1]\n",
    "print(rev_msg)"
   ]
  },
  {
   "cell_type": "code",
   "execution_count": 123,
   "id": "dd36863c",
   "metadata": {},
   "outputs": [
    {
     "name": "stdout",
     "output_type": "stream",
     "text": [
      "1lpp0\n"
     ]
    }
   ],
   "source": [
    "#  Step 2 : replace all vowels with corresponding integers\n",
    "\n",
    "vowels = {'a':'0','e':'1','i':'2','o':'3','u':'4'}\n",
    "\n",
    "for char in 'aeiou':\n",
    "    \n",
    "    rev_msg = rev_msg.replace(char,vowels[char])\n",
    "    \n",
    "print(rev_msg)"
   ]
  },
  {
   "cell_type": "code",
   "execution_count": null,
   "id": "e7d85613",
   "metadata": {},
   "outputs": [],
   "source": [
    "# Explanation of this ->      rev_msg = rev_msg.replace(char,vowels[char])\n",
    "\n",
    "'elppa'.replace( 'a', vowels['a'])\n",
    "\n",
    "'elppa'.replace('a','0')\n",
    "\n",
    "'elpp0'"
   ]
  },
  {
   "cell_type": "code",
   "execution_count": 124,
   "id": "e7ead618",
   "metadata": {},
   "outputs": [
    {
     "name": "stdout",
     "output_type": "stream",
     "text": [
      "1lpp0aca\n"
     ]
    }
   ],
   "source": [
    "# Step 3 : add 'aca' at the end of the string\n",
    "\n",
    "print(f'{rev_msg}aca')"
   ]
  },
  {
   "cell_type": "code",
   "execution_count": 128,
   "id": "d44eae08",
   "metadata": {},
   "outputs": [
    {
     "name": "stdout",
     "output_type": "stream",
     "text": [
      "1lpp0aca\n"
     ]
    }
   ],
   "source": [
    "# Alternate : 1\n",
    "\n",
    "input1 = 'apple'\n",
    "str1 = input1[::-1]\n",
    "str2= str1.replace('a','0').replace('e','1').replace('i','2').replace('o','3').replace('u','4')\n",
    "str2+='aca'\n",
    "print(str2)"
   ]
  },
  {
   "cell_type": "code",
   "execution_count": 133,
   "id": "c824367a",
   "metadata": {},
   "outputs": [
    {
     "name": "stdout",
     "output_type": "stream",
     "text": [
      "1lpp0aca\n"
     ]
    }
   ],
   "source": [
    "# Alternate : 2\n",
    "\n",
    "inp=\"apple\"\n",
    "rev=inp[::-1]\n",
    "\n",
    "for i in rev:\n",
    "    if i in 'a':\n",
    "        rev=rev.replace('a','0')\n",
    "    elif i in 'e':\n",
    "        rev=rev.replace('e','1')\n",
    "    elif i in 'i':\n",
    "        rev=rev.replace('i','2')\n",
    "    elif i in '0':\n",
    "        rev=rev.replace('o','3')\n",
    "    elif i in \"u\":\n",
    "        rev=rev.replace('u','4')\n",
    "print(rev+'aca')"
   ]
  },
  {
   "cell_type": "markdown",
   "id": "4a099f3f",
   "metadata": {},
   "source": [
    "### Week - 3 { Control Structures And Functions In Python } 18 July"
   ]
  },
  {
   "cell_type": "markdown",
   "id": "3664e135",
   "metadata": {},
   "source": [
    "### Comprehension"
   ]
  },
  {
   "cell_type": "code",
   "execution_count": null,
   "id": "6b0f705a",
   "metadata": {},
   "outputs": [],
   "source": [
    "# Let us begin with comprehension\n",
    "\n",
    "# Let us solve a problem using standard programming vs comprehensions\n",
    "\n",
    "# Objective : Find the square of numbers between 1 and 5"
   ]
  },
  {
   "cell_type": "code",
   "execution_count": 3,
   "id": "98092c3f",
   "metadata": {},
   "outputs": [
    {
     "name": "stdout",
     "output_type": "stream",
     "text": [
      "[1, 4, 9, 16, 25]\n"
     ]
    }
   ],
   "source": [
    "# Standard Programming \n",
    "\n",
    "sqr_list = []\n",
    "\n",
    "for x in range (1,6):\n",
    "    sqr_list.append(x*x)\n",
    "    \n",
    "print(sqr_list)"
   ]
  },
  {
   "cell_type": "code",
   "execution_count": 2,
   "id": "56c6f468",
   "metadata": {},
   "outputs": [
    {
     "data": {
      "text/plain": [
       "[1, 4, 9, 16, 25]"
      ]
     },
     "execution_count": 2,
     "metadata": {},
     "output_type": "execute_result"
    }
   ],
   "source": [
    "# Comprehension \n",
    "\n",
    "[x*x for x in range(1,6)]"
   ]
  },
  {
   "cell_type": "code",
   "execution_count": null,
   "id": "73072bd6",
   "metadata": {},
   "outputs": [],
   "source": [
    "# Comprehension are 1 liner expressions.\n",
    "# Motto : Do more with less lines of code.\n",
    "# Benefits : increased readability of code and productivity,\n",
    "# Faster developement , modern approach, modern complexity."
   ]
  },
  {
   "cell_type": "code",
   "execution_count": null,
   "id": "c9931a02",
   "metadata": {},
   "outputs": [],
   "source": [
    "# Comprehensions are of two types \n",
    "\n",
    "   - List Comprehension \n",
    "   - Dict Comprehension"
   ]
  },
  {
   "cell_type": "code",
   "execution_count": null,
   "id": "665d3819",
   "metadata": {},
   "outputs": [],
   "source": [
    "# We will use list comprehension when we want to produce list as an output.\n",
    "# We will use dict comprehension when we want to produce dict as an output"
   ]
  },
  {
   "cell_type": "markdown",
   "id": "276056a3",
   "metadata": {},
   "source": [
    "# Syntax"
   ]
  },
  {
   "cell_type": "code",
   "execution_count": null,
   "id": "0b61e401",
   "metadata": {},
   "outputs": [],
   "source": [
    "# List Comprehension \n",
    "\n",
    "[<output_exp> <loop> <condition>]"
   ]
  },
  {
   "cell_type": "code",
   "execution_count": 5,
   "id": "6b249ae7",
   "metadata": {},
   "outputs": [
    {
     "data": {
      "text/plain": [
       "[1, 2, 3, 4]"
      ]
     },
     "execution_count": 5,
     "metadata": {},
     "output_type": "execute_result"
    }
   ],
   "source": [
    "# Example \n",
    "\n",
    "[x for x in range(1,6) if x<5]"
   ]
  },
  {
   "cell_type": "code",
   "execution_count": 6,
   "id": "a58aecdf",
   "metadata": {},
   "outputs": [
    {
     "data": {
      "text/plain": [
       "[2, 4, 6, 8, 10]"
      ]
     },
     "execution_count": 6,
     "metadata": {},
     "output_type": "execute_result"
    }
   ],
   "source": [
    "# divided by 2 if returns reminder(%) as zero\n",
    "# then it is even number \n",
    "\n",
    "[x for x in range(1,11) if x%2==0]"
   ]
  },
  {
   "cell_type": "code",
   "execution_count": 7,
   "id": "31ace80e",
   "metadata": {},
   "outputs": [
    {
     "data": {
      "text/plain": [
       "['odd', 'even', 'odd', 'even', 'odd', 'even', 'odd', 'even', 'odd', 'even']"
      ]
     },
     "execution_count": 7,
     "metadata": {},
     "output_type": "execute_result"
    }
   ],
   "source": [
    "# IF we need to put the else condition then\n",
    "\n",
    "[ \"even\" if x%2==0 else \"odd\" for x in range(1,11)]"
   ]
  },
  {
   "cell_type": "code",
   "execution_count": 3,
   "id": "660d2510",
   "metadata": {},
   "outputs": [],
   "source": [
    "colors=['red','green','orange','white','blue']"
   ]
  },
  {
   "cell_type": "code",
   "execution_count": 4,
   "id": "d00fa8a9",
   "metadata": {},
   "outputs": [
    {
     "data": {
      "text/plain": [
       "['red', 'green', 'orange', 'white', 'blue']"
      ]
     },
     "execution_count": 4,
     "metadata": {},
     "output_type": "execute_result"
    }
   ],
   "source": [
    "[c for c in colors]"
   ]
  },
  {
   "cell_type": "code",
   "execution_count": 5,
   "id": "9d662bd0",
   "metadata": {},
   "outputs": [
    {
     "data": {
      "text/plain": [
       "['red', 'green', 'orange', 'white', 'blue']"
      ]
     },
     "execution_count": 5,
     "metadata": {},
     "output_type": "execute_result"
    }
   ],
   "source": [
    "[c.lower() for c in colors]"
   ]
  },
  {
   "cell_type": "code",
   "execution_count": 6,
   "id": "5d28c140",
   "metadata": {},
   "outputs": [
    {
     "data": {
      "text/plain": [
       "['Red', 'Green', 'Orange', 'White', 'Blue']"
      ]
     },
     "execution_count": 6,
     "metadata": {},
     "output_type": "execute_result"
    }
   ],
   "source": [
    "[c.capitalize() for c in colors]"
   ]
  },
  {
   "cell_type": "code",
   "execution_count": 7,
   "id": "b0e2f1b3",
   "metadata": {},
   "outputs": [
    {
     "data": {
      "text/plain": [
       "['der', 'neerg', 'egnaro', 'etihw', 'eulb']"
      ]
     },
     "execution_count": 7,
     "metadata": {},
     "output_type": "execute_result"
    }
   ],
   "source": [
    "[c[::-1] for c in colors]  # getting reverse of colors"
   ]
  },
  {
   "cell_type": "code",
   "execution_count": 8,
   "id": "5446671d",
   "metadata": {},
   "outputs": [
    {
     "data": {
      "text/plain": [
       "['r', 'g', 'o', 'w', 'b']"
      ]
     },
     "execution_count": 8,
     "metadata": {},
     "output_type": "execute_result"
    }
   ],
   "source": [
    "[c[0] for c in colors]  # finding first letter of colors"
   ]
  },
  {
   "cell_type": "code",
   "execution_count": 10,
   "id": "07489ba0",
   "metadata": {},
   "outputs": [
    {
     "data": {
      "text/plain": [
       "['red', 'green', 'orange', 'white', 'blue']"
      ]
     },
     "execution_count": 10,
     "metadata": {},
     "output_type": "execute_result"
    }
   ],
   "source": [
    "colors"
   ]
  },
  {
   "cell_type": "code",
   "execution_count": 11,
   "id": "639648e2",
   "metadata": {},
   "outputs": [
    {
     "data": {
      "text/plain": [
       "['orange']"
      ]
     },
     "execution_count": 11,
     "metadata": {},
     "output_type": "execute_result"
    }
   ],
   "source": [
    "# please add the condition to filter the colors starting with vowel\n",
    "\n",
    "[c for c in colors if c[0] in \"aeiou\"]"
   ]
  },
  {
   "cell_type": "code",
   "execution_count": 16,
   "id": "36a0f4fb",
   "metadata": {},
   "outputs": [
    {
     "data": {
      "text/plain": [
       "[]"
      ]
     },
     "execution_count": 16,
     "metadata": {},
     "output_type": "execute_result"
    }
   ],
   "source": [
    "[c for c in colors if c[0]=='aeiou']  # We can't use == because it means the total word aeiou in colors"
   ]
  },
  {
   "cell_type": "code",
   "execution_count": 18,
   "id": "ac854206",
   "metadata": {},
   "outputs": [
    {
     "data": {
      "text/plain": [
       "['IPH*ONE', 'Go*ld', 'Credit*Card']"
      ]
     },
     "execution_count": 18,
     "metadata": {},
     "output_type": "execute_result"
    }
   ],
   "source": [
    "giftbox=[ 'Acer', 'IPH*ONE','Television','Go*ld','Coffee','Credit*Card','Netflix']\n",
    "\n",
    "[g for g in giftbox if '*' in g]"
   ]
  },
  {
   "cell_type": "code",
   "execution_count": null,
   "id": "7b1802a0",
   "metadata": {},
   "outputs": [],
   "source": [
    "# Dictionary Comprehension"
   ]
  },
  {
   "cell_type": "code",
   "execution_count": 19,
   "id": "7238fa84",
   "metadata": {},
   "outputs": [
    {
     "data": {
      "text/plain": [
       "{1: 1, 2: 2, 3: 3, 4: 4, 5: 5}"
      ]
     },
     "execution_count": 19,
     "metadata": {},
     "output_type": "execute_result"
    }
   ],
   "source": [
    "{x:x for x in range(1,6)}"
   ]
  },
  {
   "cell_type": "code",
   "execution_count": 20,
   "id": "bf11ed92",
   "metadata": {},
   "outputs": [
    {
     "data": {
      "text/plain": [
       "{1: 1, 2: 4, 3: 9, 4: 16, 5: 25}"
      ]
     },
     "execution_count": 20,
     "metadata": {},
     "output_type": "execute_result"
    }
   ],
   "source": [
    "{x:x*x for x in range (1,6)}"
   ]
  },
  {
   "cell_type": "code",
   "execution_count": 21,
   "id": "cef54ba3",
   "metadata": {},
   "outputs": [
    {
     "data": {
      "text/plain": [
       "{195: 87.75, 165: 74.25, 190: 85.5, 185: 83.25}"
      ]
     },
     "execution_count": 21,
     "metadata": {},
     "output_type": "execute_result"
    }
   ],
   "source": [
    "# Exercise :1\n",
    "\n",
    "# try to write dict comprehension\n",
    "# key: weight_pound\n",
    "# value: weight_kg\n",
    "\n",
    "weight_nba_players= [195,165,190,185]\n",
    "\n",
    "{w:w*0.45 for w in weight_nba_players}"
   ]
  },
  {
   "cell_type": "code",
   "execution_count": 22,
   "id": "d96fb343",
   "metadata": {},
   "outputs": [
    {
     "data": {
      "text/plain": [
       "{'milk': 2.5, 'bread': 1.8, 'honey': 3.5}"
      ]
     },
     "execution_count": 22,
     "metadata": {},
     "output_type": "execute_result"
    }
   ],
   "source": [
    "# Exercise : 2\n",
    "\n",
    "# Dict comrehension\n",
    "# key: item\n",
    "# Objective : price in INR\n",
    "\n",
    "grocery_list = {'milk':2.5,'bread':1.8,'honey':3.5}\n",
    "grocery_list"
   ]
  },
  {
   "cell_type": "code",
   "execution_count": 27,
   "id": "9cdf103d",
   "metadata": {},
   "outputs": [
    {
     "data": {
      "text/plain": [
       "['milk', 'bread', 'honey']"
      ]
     },
     "execution_count": 27,
     "metadata": {},
     "output_type": "execute_result"
    }
   ],
   "source": [
    "# what happens when place a dict in a loop\n",
    "\n",
    "[key for key in grocery_list]"
   ]
  },
  {
   "cell_type": "code",
   "execution_count": 29,
   "id": "9f3a7043",
   "metadata": {},
   "outputs": [
    {
     "data": {
      "text/plain": [
       "[2.5, 1.8, 3.5]"
      ]
     },
     "execution_count": 29,
     "metadata": {},
     "output_type": "execute_result"
    }
   ],
   "source": [
    "[grocery_list[key] for key in grocery_list]"
   ]
  },
  {
   "cell_type": "code",
   "execution_count": 31,
   "id": "8dd65eb6",
   "metadata": {},
   "outputs": [
    {
     "data": {
      "text/plain": [
       "{'milk': 186.525, 'bread': 134.298, 'honey': 261.135}"
      ]
     },
     "execution_count": 31,
     "metadata": {},
     "output_type": "execute_result"
    }
   ],
   "source": [
    "{ key:grocery_list[key]*74.61 for key in grocery_list}"
   ]
  },
  {
   "cell_type": "markdown",
   "id": "19036274",
   "metadata": {},
   "source": [
    "## Introductory Lambda Expression"
   ]
  },
  {
   "cell_type": "code",
   "execution_count": null,
   "id": "4bc8a2ed",
   "metadata": {},
   "outputs": [],
   "source": [
    "# Lambda Expression are 1 Liner function\n",
    "\n",
    "# Lambda Expression replace regular python functions\n",
    "\n",
    "# "
   ]
  },
  {
   "cell_type": "code",
   "execution_count": 34,
   "id": "97407c99",
   "metadata": {},
   "outputs": [],
   "source": [
    "# Function are used to distribute the code.\n",
    "# Functions also promote code reusability\n",
    "# Functions are defined by using 'def' key word\n",
    "\n",
    "def sayhello():\n",
    "    print('good morning')"
   ]
  },
  {
   "cell_type": "code",
   "execution_count": 36,
   "id": "fbb83722",
   "metadata": {},
   "outputs": [
    {
     "name": "stdout",
     "output_type": "stream",
     "text": [
      "good morning\n"
     ]
    }
   ],
   "source": [
    "sayhello()"
   ]
  },
  {
   "cell_type": "code",
   "execution_count": 37,
   "id": "c217ef65",
   "metadata": {},
   "outputs": [],
   "source": [
    "# Let us define a function to calculate square of a given number\n",
    "\n",
    "def getsqr(n):\n",
    "    return n*n"
   ]
  },
  {
   "cell_type": "code",
   "execution_count": 38,
   "id": "5c3f3df1",
   "metadata": {},
   "outputs": [
    {
     "data": {
      "text/plain": [
       "25"
      ]
     },
     "execution_count": 38,
     "metadata": {},
     "output_type": "execute_result"
    }
   ],
   "source": [
    "getsqr(5)"
   ]
  },
  {
   "cell_type": "code",
   "execution_count": 40,
   "id": "40b5c655",
   "metadata": {},
   "outputs": [],
   "source": [
    "# we can re-write the same function using lambda\n",
    "\n",
    "sqr = lambda n:n*n   # its a formula based expression"
   ]
  },
  {
   "cell_type": "code",
   "execution_count": 41,
   "id": "69d6efd2",
   "metadata": {},
   "outputs": [
    {
     "data": {
      "text/plain": [
       "25"
      ]
     },
     "execution_count": 41,
     "metadata": {},
     "output_type": "execute_result"
    }
   ],
   "source": [
    "sqr(5)"
   ]
  },
  {
   "cell_type": "code",
   "execution_count": 42,
   "id": "ca81071e",
   "metadata": {},
   "outputs": [],
   "source": [
    "cube= lambda n:n**n"
   ]
  },
  {
   "cell_type": "code",
   "execution_count": 43,
   "id": "2c6d548f",
   "metadata": {},
   "outputs": [
    {
     "data": {
      "text/plain": [
       "27"
      ]
     },
     "execution_count": 43,
     "metadata": {},
     "output_type": "execute_result"
    }
   ],
   "source": [
    "cube(3)"
   ]
  },
  {
   "cell_type": "code",
   "execution_count": 44,
   "id": "55c137be",
   "metadata": {},
   "outputs": [],
   "source": [
    "cal= lambda x,y : x**y"
   ]
  },
  {
   "cell_type": "code",
   "execution_count": 45,
   "id": "7858a18a",
   "metadata": {},
   "outputs": [
    {
     "data": {
      "text/plain": [
       "8"
      ]
     },
     "execution_count": 45,
     "metadata": {},
     "output_type": "execute_result"
    }
   ],
   "source": [
    "cal(2,3)"
   ]
  },
  {
   "cell_type": "code",
   "execution_count": null,
   "id": "b24acbb0",
   "metadata": {},
   "outputs": [],
   "source": [
    "# Exercise \n",
    "# please use lambda expression\n",
    "# accept temperature (fahr..) and convert it into celsius"
   ]
  },
  {
   "cell_type": "code",
   "execution_count": 50,
   "id": "7e9f5fec",
   "metadata": {},
   "outputs": [],
   "source": [
    "tempconv= lambda fah:(fah-32)*5/9"
   ]
  },
  {
   "cell_type": "code",
   "execution_count": 51,
   "id": "a425b746",
   "metadata": {},
   "outputs": [
    {
     "data": {
      "text/plain": [
       "36.666666666666664"
      ]
     },
     "execution_count": 51,
     "metadata": {},
     "output_type": "execute_result"
    }
   ],
   "source": [
    "tempconv(98)"
   ]
  },
  {
   "cell_type": "markdown",
   "id": "039cd850",
   "metadata": {},
   "source": [
    "## Map , Reduce , Filter"
   ]
  },
  {
   "cell_type": "code",
   "execution_count": null,
   "id": "96f8aee9",
   "metadata": {},
   "outputs": [],
   "source": [
    "# these are the standard functions provided to us for processing the data"
   ]
  },
  {
   "cell_type": "code",
   "execution_count": 55,
   "id": "33ecd02c",
   "metadata": {},
   "outputs": [],
   "source": [
    "# SYNTAX : map(functions, data) ( it retrns new data)\n",
    "\n",
    "#        : filter(data, function) # filter requires function which is boolean\n",
    "#          in nature ( it returns filtered data as subset)\n",
    "#          filter returns the element who satisfies the function it does't \n",
    "#           return true false\n",
    "\n",
    "#        : reduce is used for aggregation( max, min, sum)\n"
   ]
  },
  {
   "cell_type": "code",
   "execution_count": null,
   "id": "9befe3f9",
   "metadata": {},
   "outputs": [],
   "source": [
    "# let us learn how to use map\n",
    "# objective : find the square of no. 1 to 5"
   ]
  },
  {
   "cell_type": "code",
   "execution_count": 56,
   "id": "42bd2fe6",
   "metadata": {},
   "outputs": [],
   "source": [
    "# data \n",
    "numlist= [1,2,3,4,5]"
   ]
  },
  {
   "cell_type": "code",
   "execution_count": 59,
   "id": "432f7139",
   "metadata": {},
   "outputs": [
    {
     "data": {
      "text/plain": [
       "<map at 0x218c584f7f0>"
      ]
     },
     "execution_count": 59,
     "metadata": {},
     "output_type": "execute_result"
    }
   ],
   "source": [
    "# function\n",
    "\n",
    "lambda n : n*n\n",
    "\n",
    "map( lambda n : n*n , numlist)"
   ]
  },
  {
   "cell_type": "code",
   "execution_count": null,
   "id": "25189780",
   "metadata": {},
   "outputs": [],
   "source": [
    "# the response of list comprehension will always be the list\n",
    "# this is not the case with map \n",
    "# map is not limited to the perticular data type\n"
   ]
  },
  {
   "cell_type": "code",
   "execution_count": 61,
   "id": "366959db",
   "metadata": {},
   "outputs": [
    {
     "data": {
      "text/plain": [
       "[1, 4, 9, 16, 25]"
      ]
     },
     "execution_count": 61,
     "metadata": {},
     "output_type": "execute_result"
    }
   ],
   "source": [
    "list ( map( lambda n: n*n, numlist))"
   ]
  },
  {
   "cell_type": "code",
   "execution_count": 62,
   "id": "ac4203f4",
   "metadata": {},
   "outputs": [
    {
     "data": {
      "text/plain": [
       "(1, 4, 9, 16, 25)"
      ]
     },
     "execution_count": 62,
     "metadata": {},
     "output_type": "execute_result"
    }
   ],
   "source": [
    "tuple ( map ( lambda n:n*n, numlist))"
   ]
  },
  {
   "cell_type": "code",
   "execution_count": 64,
   "id": "d33269c1",
   "metadata": {},
   "outputs": [
    {
     "data": {
      "text/plain": [
       "{1, 4, 9, 16, 25}"
      ]
     },
     "execution_count": 64,
     "metadata": {},
     "output_type": "execute_result"
    }
   ],
   "source": [
    "set ( map ( lambda n: n*n , numlist ))"
   ]
  },
  {
   "cell_type": "code",
   "execution_count": 78,
   "id": "8c376c3e",
   "metadata": {},
   "outputs": [],
   "source": [
    "# Exercise \n",
    "\n",
    "dirtydata= \" maths 85 science 76 english 65 hindi 34\"\n",
    "\n",
    "# extract the numbers\n",
    "# hint : try using comprehension"
   ]
  },
  {
   "cell_type": "code",
   "execution_count": 79,
   "id": "7153b02e",
   "metadata": {},
   "outputs": [],
   "source": [
    "response=[int(x) for x in dirtydata.split() if x.isdigit()]"
   ]
  },
  {
   "cell_type": "code",
   "execution_count": 80,
   "id": "bcd5bb55",
   "metadata": {},
   "outputs": [
    {
     "data": {
      "text/plain": [
       "[85, 76, 65, 34]"
      ]
     },
     "execution_count": 80,
     "metadata": {},
     "output_type": "execute_result"
    }
   ],
   "source": [
    "response"
   ]
  },
  {
   "cell_type": "code",
   "execution_count": null,
   "id": "d7b753d0",
   "metadata": {},
   "outputs": [],
   "source": []
  },
  {
   "cell_type": "code",
   "execution_count": 81,
   "id": "4365eddc",
   "metadata": {},
   "outputs": [
    {
     "data": {
      "text/plain": [
       "['pass', 'pass', 'pass', 'fail']"
      ]
     },
     "execution_count": 81,
     "metadata": {},
     "output_type": "execute_result"
    }
   ],
   "source": [
    "# these are the examples only to show what can we do usind these functions \n",
    "\n",
    "# using list comprehension\n",
    "# try to fetch pass and fail if marks>45\n",
    "\n",
    "['pass' if marks>45 else \"fail\" for marks in response]"
   ]
  },
  {
   "cell_type": "code",
   "execution_count": 84,
   "id": "49256d47",
   "metadata": {},
   "outputs": [
    {
     "data": {
      "text/plain": [
       "['85 %', '76 %', '65 %', '34 %']"
      ]
     },
     "execution_count": 84,
     "metadata": {},
     "output_type": "execute_result"
    }
   ],
   "source": [
    "#using map function \n",
    "# try to fetch the percent of subjects \n",
    "\n",
    "list(map(lambda marks: '{} {}'.format((marks),\"%\"),response))"
   ]
  },
  {
   "cell_type": "code",
   "execution_count": 87,
   "id": "1d32879f",
   "metadata": {},
   "outputs": [
    {
     "data": {
      "text/plain": [
       "<filter at 0x218c5863c70>"
      ]
     },
     "execution_count": 87,
     "metadata": {},
     "output_type": "execute_result"
    }
   ],
   "source": [
    "# Exercise\n",
    "# using Filter\n",
    "# objective : to find even numbers \n",
    "\n",
    "numlist= [1,2,3,4,5]\n",
    "(filter(lambda num:num%2==0, numlist))\n",
    "\n",
    "# similar to map the output of filter is not limited to a perticular data so \n",
    "# we use list here."
   ]
  },
  {
   "cell_type": "code",
   "execution_count": 89,
   "id": "dc2471ff",
   "metadata": {},
   "outputs": [
    {
     "data": {
      "text/plain": [
       "[2, 4]"
      ]
     },
     "execution_count": 89,
     "metadata": {},
     "output_type": "execute_result"
    }
   ],
   "source": [
    "list(filter(lambda num:num%2==0, numlist))"
   ]
  },
  {
   "cell_type": "code",
   "execution_count": 91,
   "id": "8a30817a",
   "metadata": {},
   "outputs": [],
   "source": [
    "garbage = [100,'hello',200,True,False,300,\"hi\"]"
   ]
  },
  {
   "cell_type": "code",
   "execution_count": 93,
   "id": "62c9a7d4",
   "metadata": {},
   "outputs": [
    {
     "data": {
      "text/plain": [
       "[100, 200, 300]"
      ]
     },
     "execution_count": 93,
     "metadata": {},
     "output_type": "execute_result"
    }
   ],
   "source": [
    "# logic: we will check the type of each element\n",
    "# if type matches with int we will return the element.\n",
    "\n",
    "list(filter(lambda item : type(item)==int , garbage))"
   ]
  },
  {
   "cell_type": "code",
   "execution_count": 94,
   "id": "4b1f4aae",
   "metadata": {},
   "outputs": [
    {
     "data": {
      "text/plain": [
       "['Acer', 'IPH*ONE', 'Television', 'Go*ld', 'Coffee', 'Credit*Card', 'Netflix']"
      ]
     },
     "execution_count": 94,
     "metadata": {},
     "output_type": "execute_result"
    }
   ],
   "source": [
    "giftbox\n",
    "\n",
    "# extract elements containing * using filter "
   ]
  },
  {
   "cell_type": "code",
   "execution_count": 95,
   "id": "16ca9f49",
   "metadata": {},
   "outputs": [
    {
     "data": {
      "text/plain": [
       "['IPH*ONE', 'Go*ld', 'Credit*Card']"
      ]
     },
     "execution_count": 95,
     "metadata": {},
     "output_type": "execute_result"
    }
   ],
   "source": [
    "list( filter(lambda item : \"*\" in item, giftbox ))"
   ]
  },
  {
   "cell_type": "code",
   "execution_count": null,
   "id": "eab7f925",
   "metadata": {},
   "outputs": [],
   "source": [
    "# Reduce \n",
    "\n",
    "# objective : find the sum of given numbers using reduce"
   ]
  },
  {
   "cell_type": "code",
   "execution_count": 96,
   "id": "549b3433",
   "metadata": {},
   "outputs": [
    {
     "data": {
      "text/plain": [
       "[1, 2, 3, 4, 5]"
      ]
     },
     "execution_count": 96,
     "metadata": {},
     "output_type": "execute_result"
    }
   ],
   "source": [
    "numlist"
   ]
  },
  {
   "cell_type": "code",
   "execution_count": 97,
   "id": "8b1674a5",
   "metadata": {},
   "outputs": [],
   "source": [
    "from functools import reduce"
   ]
  },
  {
   "cell_type": "code",
   "execution_count": 98,
   "id": "b24c724d",
   "metadata": {},
   "outputs": [
    {
     "data": {
      "text/plain": [
       "15"
      ]
     },
     "execution_count": 98,
     "metadata": {},
     "output_type": "execute_result"
    }
   ],
   "source": [
    "reduce(lambda x,y :x+y , numlist)"
   ]
  },
  {
   "cell_type": "code",
   "execution_count": 100,
   "id": "5c7f4dd7",
   "metadata": {},
   "outputs": [],
   "source": [
    "# y represents the elements of your list!\n",
    "\n",
    "# x   y \n",
    "# 1   2\n",
    "# 3   3\n",
    "# 6   4\n",
    "# 10  5\n",
    "# 15\n",
    "# returns x i.e 15"
   ]
  },
  {
   "cell_type": "markdown",
   "id": "efdc8b3e",
   "metadata": {},
   "source": [
    "#### "
   ]
  },
  {
   "cell_type": "code",
   "execution_count": 101,
   "id": "a83b7390",
   "metadata": {},
   "outputs": [],
   "source": [
    "# another approach with the regular function\n",
    "\n",
    "def getsum(x,y):\n",
    "    print(f'x{x} y {y}')\n",
    "    return(x+y)\n",
    "    "
   ]
  },
  {
   "cell_type": "code",
   "execution_count": 103,
   "id": "4b9d7a67",
   "metadata": {},
   "outputs": [
    {
     "name": "stdout",
     "output_type": "stream",
     "text": [
      "x1 y 5\n"
     ]
    },
    {
     "data": {
      "text/plain": [
       "6"
      ]
     },
     "execution_count": 103,
     "metadata": {},
     "output_type": "execute_result"
    }
   ],
   "source": [
    "getsum(1,5)"
   ]
  },
  {
   "cell_type": "code",
   "execution_count": 104,
   "id": "1a3cabd3",
   "metadata": {},
   "outputs": [
    {
     "name": "stdout",
     "output_type": "stream",
     "text": [
      "x1 y 2\n",
      "x3 y 3\n",
      "x6 y 4\n",
      "x10 y 5\n"
     ]
    },
    {
     "data": {
      "text/plain": [
       "15"
      ]
     },
     "execution_count": 104,
     "metadata": {},
     "output_type": "execute_result"
    }
   ],
   "source": [
    "reduce(getsum,numlist)"
   ]
  },
  {
   "cell_type": "code",
   "execution_count": 3,
   "id": "e1f6e395",
   "metadata": {},
   "outputs": [
    {
     "ename": "ModuleNotFoundError",
     "evalue": "No module named 'jovian'",
     "output_type": "error",
     "traceback": [
      "\u001b[1;31m---------------------------------------------------------------------------\u001b[0m",
      "\u001b[1;31mModuleNotFoundError\u001b[0m                       Traceback (most recent call last)",
      "\u001b[1;32m<ipython-input-3-97223f28e913>\u001b[0m in \u001b[0;36m<module>\u001b[1;34m\u001b[0m\n\u001b[1;32m----> 1\u001b[1;33m \u001b[1;32mimport\u001b[0m \u001b[0mjovian\u001b[0m\u001b[1;33m\u001b[0m\u001b[1;33m\u001b[0m\u001b[0m\n\u001b[0m\u001b[0;32m      2\u001b[0m \u001b[0mjovian\u001b[0m\u001b[1;33m.\u001b[0m\u001b[0mcommit\u001b[0m\u001b[1;33m(\u001b[0m\u001b[1;33m)\u001b[0m\u001b[1;33m\u001b[0m\u001b[1;33m\u001b[0m\u001b[0m\n",
      "\u001b[1;31mModuleNotFoundError\u001b[0m: No module named 'jovian'"
     ]
    }
   ],
   "source": [
    "import jovian\n",
    "jovian.commit()"
   ]
  },
  {
   "cell_type": "code",
   "execution_count": null,
   "id": "2d009297",
   "metadata": {},
   "outputs": [],
   "source": []
  }
 ],
 "metadata": {
  "kernelspec": {
   "display_name": "Python 3",
   "language": "python",
   "name": "python3"
  },
  "language_info": {
   "codemirror_mode": {
    "name": "ipython",
    "version": 3
   },
   "file_extension": ".py",
   "mimetype": "text/x-python",
   "name": "python",
   "nbconvert_exporter": "python",
   "pygments_lexer": "ipython3",
   "version": "3.8.8"
  }
 },
 "nbformat": 4,
 "nbformat_minor": 5
}
